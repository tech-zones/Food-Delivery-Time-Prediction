{
  "nbformat": 4,
  "nbformat_minor": 0,
  "metadata": {
    "accelerator": "GPU",
    "colab": {
      "name": "Predicting_Food_Delivery_Time.ipynb",
      "provenance": [],
      "collapsed_sections": [
        "dBV2JLd1ALQH",
        "UceqrG8LAFr_",
        "_YYJ_HI9A1qg",
        "pwjvNSkCBLC6",
        "Hjn_pdlpBD8w",
        "u1kumctM5Jf5",
        "SCbszxL0-NPg",
        "wRVErMt0HBFp",
        "tQXtDXaONwjx",
        "1R2AgdQg5OKR"
      ]
    },
    "kernelspec": {
      "display_name": "Python 3",
      "language": "python",
      "name": "python3"
    }
  },
  "cells": [
    {
      "cell_type": "markdown",
      "metadata": {
        "colab_type": "text",
        "id": "YFpFT7cpAS4i"
      },
      "source": [
        "# Solving MachineHack's 'Predicting Food Delivery Time - Hackathon by IMS Proschool'\n",
        "\n",
        "---\n",
        "The entire world is transforming digitally and our relationship with technology has grown exponentially over the last few years. We have grown closer to technology, and it has made our life a lot easier by saving time and effort. Today everything is accessible with smartphones — from groceries to cooked food and from medicines to doctors. In this hackathon, we provide you with data that is a by-product as well as a thriving proof of this growing relationship. \n",
        "\n",
        "When was the last time you ordered food online? And how long did it take to reach you?\n",
        "\n",
        "In this hackathon, we are providing you with data from thousands of restaurants in India regarding the time they take to deliver food for online order. As data scientists, your goal is to predict the online order delivery time based on the given factors.\n",
        "\n",
        "Analytics India Magazine and IMS Proschool bring to you [‘Predicting Predicting Food Delivery Time Hackathon’](https://www.machinehack.com/course/predicting-food-delivery-time-hackathon-by-ims-proschool/).\n",
        "\n",
        "Size of training set: 11,094 records\n",
        "\n",
        "Size of test set: 2,774 records\n",
        "\n",
        "**FEATURES:**\n",
        "\n",
        "* Restaurant: A unique ID that represents a restaurant.\n",
        "* Location: The location of the restaurant.\n",
        "* Cuisines: The cuisines offered by the restaurant.\n",
        "* Average_Cost: The average cost for one person/order.\n",
        "* Minimum_Order: The minimum order amount.\n",
        "* Rating: Customer rating for the restaurant.\n",
        "* Votes: The total number of customer votes for the restaurant.\n",
        "* Reviews: The number of customer reviews for the restaurant.\n",
        "* Delivery_Time: The order delivery time of the restaurant. (Target Classes) \n",
        "\n",
        "About IMS Proschool\n",
        "\n",
        "IMS, since 1977, has worked towards building a long term successful career for its students. It emerged as the fourth most trusted education brands in an AC Nielsen and Brand Equity Survey. IMS Proschool is the extension of the same mission. Proschool helps individuals realize their potential by mentoring and imparting skills.\n",
        "\n",
        "**Link to the Hackathon [here](https://www.machinehack.com/course/predicting-food-delivery-time-hackathon-by-ims-proschool/).**\n",
        " "
      ]
    },
    {
      "cell_type": "markdown",
      "metadata": {
        "colab_type": "text",
        "id": "S_jBYc1XPmJ3"
      },
      "source": [
        "##Mounting Google Drive "
      ]
    },
    {
      "cell_type": "markdown",
      "metadata": {
        "colab_type": "text",
        "id": "pe6bXU0rQUqC"
      },
      "source": [
        "Mount your google drive to access files in the drive, here I have uploaded all the requires datasets in to my google drive, mounted it to colab by authorising access."
      ]
    },
    {
      "cell_type": "code",
      "metadata": {
        "colab_type": "code",
        "id": "dfsrnSdXiyjg",
        "outputId": "cc52eb64-a348-4df9-95f0-ec2e63ac4e88",
        "colab": {
          "base_uri": "https://localhost:8080/",
          "height": 125
        }
      },
      "source": [
        "from google.colab import drive\n",
        "drive.mount(\"/GD\")"
      ],
      "execution_count": 1,
      "outputs": [
        {
          "output_type": "stream",
          "text": [
            "Go to this URL in a browser: https://accounts.google.com/o/oauth2/auth?client_id=947318989803-6bn6qk8qdgf4n4g3pfee6491hc0brc4i.apps.googleusercontent.com&redirect_uri=urn%3aietf%3awg%3aoauth%3a2.0%3aoob&response_type=code&scope=email%20https%3a%2f%2fwww.googleapis.com%2fauth%2fdocs.test%20https%3a%2f%2fwww.googleapis.com%2fauth%2fdrive%20https%3a%2f%2fwww.googleapis.com%2fauth%2fdrive.photos.readonly%20https%3a%2f%2fwww.googleapis.com%2fauth%2fpeopleapi.readonly\n",
            "\n",
            "Enter your authorization code:\n",
            "··········\n",
            "Mounted at /GD\n"
          ],
          "name": "stdout"
        }
      ]
    },
    {
      "cell_type": "markdown",
      "metadata": {
        "colab_type": "text",
        "id": "dBV2JLd1ALQH"
      },
      "source": [
        "##Loading The Data"
      ]
    },
    {
      "cell_type": "code",
      "metadata": {
        "colab_type": "code",
        "id": "lDkaeJm_j1R0",
        "colab": {}
      },
      "source": [
        "#Importing necessary libraries\n",
        "import pandas as pd\n",
        "import numpy as np\n",
        "import re\n",
        "from tqdm import tqdm"
      ],
      "execution_count": 0,
      "outputs": []
    },
    {
      "cell_type": "markdown",
      "metadata": {
        "colab_type": "text",
        "id": "iPqcGP9PQqnC"
      },
      "source": [
        "We will now load the datasets using pandas by mentioning the path to the files residing in the drive as given below."
      ]
    },
    {
      "cell_type": "code",
      "metadata": {
        "colab_type": "code",
        "id": "dqndqEBzjReJ",
        "colab": {}
      },
      "source": [
        "train = pd.read_excel(\"/GD/My Drive/Colab Notebooks/Food Delivery/Participants Data/Data_Train.xlsx\")\n",
        "test = pd.read_excel(\"/GD/My Drive/Colab Notebooks/Food Delivery/Participants Data/Data_Test.xlsx\")"
      ],
      "execution_count": 0,
      "outputs": []
    },
    {
      "cell_type": "markdown",
      "metadata": {
        "colab_type": "text",
        "id": "UceqrG8LAFr_"
      },
      "source": [
        "##Dataset Features"
      ]
    },
    {
      "cell_type": "markdown",
      "metadata": {
        "colab_type": "text",
        "id": "5L36MM2DRJNz"
      },
      "source": [
        "Before proceeding any further,lets have a look at the dataset and its basic features.\n"
      ]
    },
    {
      "cell_type": "markdown",
      "metadata": {
        "colab_type": "text",
        "id": "kRIwn_yRAJVE"
      },
      "source": [
        "####Trainig Data"
      ]
    },
    {
      "cell_type": "code",
      "metadata": {
        "colab_type": "code",
        "id": "PkH-VCvOj0Ai",
        "outputId": "759ff486-bc6c-43f3-94b2-c738db6da673",
        "colab": {
          "base_uri": "https://localhost:8080/",
          "height": 34
        }
      },
      "source": [
        "train.shape"
      ],
      "execution_count": 5,
      "outputs": [
        {
          "output_type": "execute_result",
          "data": {
            "text/plain": [
              "(11094, 9)"
            ]
          },
          "metadata": {
            "tags": []
          },
          "execution_count": 5
        }
      ]
    },
    {
      "cell_type": "code",
      "metadata": {
        "colab_type": "code",
        "id": "Fi1vTZOjRT_2",
        "outputId": "23b8b728-444c-4a09-982d-2c4ce137cee6",
        "colab": {
          "base_uri": "https://localhost:8080/",
          "height": 70
        }
      },
      "source": [
        "train.columns"
      ],
      "execution_count": 6,
      "outputs": [
        {
          "output_type": "execute_result",
          "data": {
            "text/plain": [
              "Index(['Restaurant', 'Location', 'Cuisines', 'Average_Cost', 'Minimum_Order',\n",
              "       'Rating', 'Votes', 'Reviews', 'Delivery_Time'],\n",
              "      dtype='object')"
            ]
          },
          "metadata": {
            "tags": []
          },
          "execution_count": 6
        }
      ]
    },
    {
      "cell_type": "code",
      "metadata": {
        "colab_type": "code",
        "id": "S-u0Y6aHlRmn",
        "outputId": "cd0756ed-35d5-4779-f98d-8019906e71d8",
        "colab": {
          "base_uri": "https://localhost:8080/",
          "height": 212
        }
      },
      "source": [
        "train.head()"
      ],
      "execution_count": 7,
      "outputs": [
        {
          "output_type": "execute_result",
          "data": {
            "text/html": [
              "<div>\n",
              "<style scoped>\n",
              "    .dataframe tbody tr th:only-of-type {\n",
              "        vertical-align: middle;\n",
              "    }\n",
              "\n",
              "    .dataframe tbody tr th {\n",
              "        vertical-align: top;\n",
              "    }\n",
              "\n",
              "    .dataframe thead th {\n",
              "        text-align: right;\n",
              "    }\n",
              "</style>\n",
              "<table border=\"1\" class=\"dataframe\">\n",
              "  <thead>\n",
              "    <tr style=\"text-align: right;\">\n",
              "      <th></th>\n",
              "      <th>Restaurant</th>\n",
              "      <th>Location</th>\n",
              "      <th>Cuisines</th>\n",
              "      <th>Average_Cost</th>\n",
              "      <th>Minimum_Order</th>\n",
              "      <th>Rating</th>\n",
              "      <th>Votes</th>\n",
              "      <th>Reviews</th>\n",
              "      <th>Delivery_Time</th>\n",
              "    </tr>\n",
              "  </thead>\n",
              "  <tbody>\n",
              "    <tr>\n",
              "      <th>0</th>\n",
              "      <td>ID_6321</td>\n",
              "      <td>FTI College, Law College Road, Pune</td>\n",
              "      <td>Fast Food, Rolls, Burger, Salad, Wraps</td>\n",
              "      <td>₹200</td>\n",
              "      <td>₹50</td>\n",
              "      <td>3.5</td>\n",
              "      <td>12</td>\n",
              "      <td>4</td>\n",
              "      <td>30 minutes</td>\n",
              "    </tr>\n",
              "    <tr>\n",
              "      <th>1</th>\n",
              "      <td>ID_2882</td>\n",
              "      <td>Sector 3, Marathalli</td>\n",
              "      <td>Ice Cream, Desserts</td>\n",
              "      <td>₹100</td>\n",
              "      <td>₹50</td>\n",
              "      <td>3.5</td>\n",
              "      <td>11</td>\n",
              "      <td>4</td>\n",
              "      <td>30 minutes</td>\n",
              "    </tr>\n",
              "    <tr>\n",
              "      <th>2</th>\n",
              "      <td>ID_1595</td>\n",
              "      <td>Mumbai Central</td>\n",
              "      <td>Italian, Street Food, Fast Food</td>\n",
              "      <td>₹150</td>\n",
              "      <td>₹50</td>\n",
              "      <td>3.6</td>\n",
              "      <td>99</td>\n",
              "      <td>30</td>\n",
              "      <td>65 minutes</td>\n",
              "    </tr>\n",
              "    <tr>\n",
              "      <th>3</th>\n",
              "      <td>ID_5929</td>\n",
              "      <td>Sector 1, Noida</td>\n",
              "      <td>Mughlai, North Indian, Chinese</td>\n",
              "      <td>₹250</td>\n",
              "      <td>₹99</td>\n",
              "      <td>3.7</td>\n",
              "      <td>176</td>\n",
              "      <td>95</td>\n",
              "      <td>30 minutes</td>\n",
              "    </tr>\n",
              "    <tr>\n",
              "      <th>4</th>\n",
              "      <td>ID_6123</td>\n",
              "      <td>Rmz Centennial, I Gate, Whitefield</td>\n",
              "      <td>Cafe, Beverages</td>\n",
              "      <td>₹200</td>\n",
              "      <td>₹99</td>\n",
              "      <td>3.2</td>\n",
              "      <td>521</td>\n",
              "      <td>235</td>\n",
              "      <td>65 minutes</td>\n",
              "    </tr>\n",
              "  </tbody>\n",
              "</table>\n",
              "</div>"
            ],
            "text/plain": [
              "  Restaurant                             Location  ... Reviews Delivery_Time\n",
              "0    ID_6321  FTI College, Law College Road, Pune  ...       4    30 minutes\n",
              "1    ID_2882                 Sector 3, Marathalli  ...       4    30 minutes\n",
              "2    ID_1595                       Mumbai Central  ...      30    65 minutes\n",
              "3    ID_5929                      Sector 1, Noida  ...      95    30 minutes\n",
              "4    ID_6123   Rmz Centennial, I Gate, Whitefield  ...     235    65 minutes\n",
              "\n",
              "[5 rows x 9 columns]"
            ]
          },
          "metadata": {
            "tags": []
          },
          "execution_count": 7
        }
      ]
    },
    {
      "cell_type": "code",
      "metadata": {
        "colab_type": "code",
        "id": "zg-AtOlZ_nRZ",
        "outputId": "ce38df63-b396-42dd-8326-3e76ef944e7a",
        "colab": {
          "base_uri": "https://localhost:8080/",
          "height": 193
        }
      },
      "source": [
        "train.isnull().sum()"
      ],
      "execution_count": 8,
      "outputs": [
        {
          "output_type": "execute_result",
          "data": {
            "text/plain": [
              "Restaurant       0\n",
              "Location         0\n",
              "Cuisines         0\n",
              "Average_Cost     0\n",
              "Minimum_Order    0\n",
              "Rating           0\n",
              "Votes            0\n",
              "Reviews          0\n",
              "Delivery_Time    0\n",
              "dtype: int64"
            ]
          },
          "metadata": {
            "tags": []
          },
          "execution_count": 8
        }
      ]
    },
    {
      "cell_type": "code",
      "metadata": {
        "colab_type": "code",
        "id": "MDc0ws0igEqr",
        "outputId": "5aa3fe3f-fcc0-47a6-f70d-f14a6fcf59d1",
        "colab": {
          "base_uri": "https://localhost:8080/",
          "height": 166
        }
      },
      "source": [
        "train.describe(include = 'all')"
      ],
      "execution_count": 9,
      "outputs": [
        {
          "output_type": "execute_result",
          "data": {
            "text/html": [
              "<div>\n",
              "<style scoped>\n",
              "    .dataframe tbody tr th:only-of-type {\n",
              "        vertical-align: middle;\n",
              "    }\n",
              "\n",
              "    .dataframe tbody tr th {\n",
              "        vertical-align: top;\n",
              "    }\n",
              "\n",
              "    .dataframe thead th {\n",
              "        text-align: right;\n",
              "    }\n",
              "</style>\n",
              "<table border=\"1\" class=\"dataframe\">\n",
              "  <thead>\n",
              "    <tr style=\"text-align: right;\">\n",
              "      <th></th>\n",
              "      <th>Restaurant</th>\n",
              "      <th>Location</th>\n",
              "      <th>Cuisines</th>\n",
              "      <th>Average_Cost</th>\n",
              "      <th>Minimum_Order</th>\n",
              "      <th>Rating</th>\n",
              "      <th>Votes</th>\n",
              "      <th>Reviews</th>\n",
              "      <th>Delivery_Time</th>\n",
              "    </tr>\n",
              "  </thead>\n",
              "  <tbody>\n",
              "    <tr>\n",
              "      <th>count</th>\n",
              "      <td>11094</td>\n",
              "      <td>11094</td>\n",
              "      <td>11094</td>\n",
              "      <td>11094</td>\n",
              "      <td>11094</td>\n",
              "      <td>11094</td>\n",
              "      <td>11094</td>\n",
              "      <td>11094</td>\n",
              "      <td>11094</td>\n",
              "    </tr>\n",
              "    <tr>\n",
              "      <th>unique</th>\n",
              "      <td>7480</td>\n",
              "      <td>35</td>\n",
              "      <td>2179</td>\n",
              "      <td>26</td>\n",
              "      <td>18</td>\n",
              "      <td>33</td>\n",
              "      <td>1103</td>\n",
              "      <td>761</td>\n",
              "      <td>7</td>\n",
              "    </tr>\n",
              "    <tr>\n",
              "      <th>top</th>\n",
              "      <td>ID_7184</td>\n",
              "      <td>Mico Layout, Stage 2, BTM Layout,Bangalore</td>\n",
              "      <td>North Indian</td>\n",
              "      <td>₹200</td>\n",
              "      <td>₹50</td>\n",
              "      <td>-</td>\n",
              "      <td>-</td>\n",
              "      <td>-</td>\n",
              "      <td>30 minutes</td>\n",
              "    </tr>\n",
              "    <tr>\n",
              "      <th>freq</th>\n",
              "      <td>22</td>\n",
              "      <td>947</td>\n",
              "      <td>850</td>\n",
              "      <td>3241</td>\n",
              "      <td>10118</td>\n",
              "      <td>1191</td>\n",
              "      <td>2074</td>\n",
              "      <td>2312</td>\n",
              "      <td>7406</td>\n",
              "    </tr>\n",
              "  </tbody>\n",
              "</table>\n",
              "</div>"
            ],
            "text/plain": [
              "       Restaurant  ... Delivery_Time\n",
              "count       11094  ...         11094\n",
              "unique       7480  ...             7\n",
              "top       ID_7184  ...    30 minutes\n",
              "freq           22  ...          7406\n",
              "\n",
              "[4 rows x 9 columns]"
            ]
          },
          "metadata": {
            "tags": []
          },
          "execution_count": 9
        }
      ]
    },
    {
      "cell_type": "code",
      "metadata": {
        "colab_type": "code",
        "id": "nnlbbxSa_75y",
        "outputId": "0aec9ce2-29aa-4830-a824-9ff6be9d7fe1",
        "colab": {
          "base_uri": "https://localhost:8080/",
          "height": 263
        }
      },
      "source": [
        "train.info()"
      ],
      "execution_count": 10,
      "outputs": [
        {
          "output_type": "stream",
          "text": [
            "<class 'pandas.core.frame.DataFrame'>\n",
            "RangeIndex: 11094 entries, 0 to 11093\n",
            "Data columns (total 9 columns):\n",
            "Restaurant       11094 non-null object\n",
            "Location         11094 non-null object\n",
            "Cuisines         11094 non-null object\n",
            "Average_Cost     11094 non-null object\n",
            "Minimum_Order    11094 non-null object\n",
            "Rating           11094 non-null object\n",
            "Votes            11094 non-null object\n",
            "Reviews          11094 non-null object\n",
            "Delivery_Time    11094 non-null object\n",
            "dtypes: object(9)\n",
            "memory usage: 780.2+ KB\n"
          ],
          "name": "stdout"
        }
      ]
    },
    {
      "cell_type": "markdown",
      "metadata": {
        "colab_type": "text",
        "id": "ucWulRUiAaO-"
      },
      "source": [
        "####Test Data"
      ]
    },
    {
      "cell_type": "code",
      "metadata": {
        "colab_type": "code",
        "id": "R2hWiEHllP7D",
        "outputId": "2cc14f44-2891-45db-d628-731b7a2c3735",
        "colab": {
          "base_uri": "https://localhost:8080/",
          "height": 34
        }
      },
      "source": [
        "test.shape"
      ],
      "execution_count": 11,
      "outputs": [
        {
          "output_type": "execute_result",
          "data": {
            "text/plain": [
              "(2774, 8)"
            ]
          },
          "metadata": {
            "tags": []
          },
          "execution_count": 11
        }
      ]
    },
    {
      "cell_type": "code",
      "metadata": {
        "colab_type": "code",
        "id": "ECOLxRPMRaZa",
        "outputId": "cb7f2c23-87f2-403f-dcdc-f7f3a0eed6f8",
        "colab": {
          "base_uri": "https://localhost:8080/",
          "height": 70
        }
      },
      "source": [
        "test.columns"
      ],
      "execution_count": 12,
      "outputs": [
        {
          "output_type": "execute_result",
          "data": {
            "text/plain": [
              "Index(['Restaurant', 'Location', 'Cuisines', 'Average_Cost', 'Minimum_Order',\n",
              "       'Rating', 'Votes', 'Reviews'],\n",
              "      dtype='object')"
            ]
          },
          "metadata": {
            "tags": []
          },
          "execution_count": 12
        }
      ]
    },
    {
      "cell_type": "code",
      "metadata": {
        "colab_type": "code",
        "id": "kA709EfflT1M",
        "outputId": "01b2d687-4f67-4bf8-8625-e51a6e6df5fa",
        "colab": {
          "base_uri": "https://localhost:8080/",
          "height": 246
        }
      },
      "source": [
        "test.head()"
      ],
      "execution_count": 13,
      "outputs": [
        {
          "output_type": "execute_result",
          "data": {
            "text/html": [
              "<div>\n",
              "<style scoped>\n",
              "    .dataframe tbody tr th:only-of-type {\n",
              "        vertical-align: middle;\n",
              "    }\n",
              "\n",
              "    .dataframe tbody tr th {\n",
              "        vertical-align: top;\n",
              "    }\n",
              "\n",
              "    .dataframe thead th {\n",
              "        text-align: right;\n",
              "    }\n",
              "</style>\n",
              "<table border=\"1\" class=\"dataframe\">\n",
              "  <thead>\n",
              "    <tr style=\"text-align: right;\">\n",
              "      <th></th>\n",
              "      <th>Restaurant</th>\n",
              "      <th>Location</th>\n",
              "      <th>Cuisines</th>\n",
              "      <th>Average_Cost</th>\n",
              "      <th>Minimum_Order</th>\n",
              "      <th>Rating</th>\n",
              "      <th>Votes</th>\n",
              "      <th>Reviews</th>\n",
              "    </tr>\n",
              "  </thead>\n",
              "  <tbody>\n",
              "    <tr>\n",
              "      <th>0</th>\n",
              "      <td>ID_2842</td>\n",
              "      <td>Mico Layout, Stage 2, BTM Layout,Bangalore</td>\n",
              "      <td>North Indian, Chinese, Assamese</td>\n",
              "      <td>₹350</td>\n",
              "      <td>₹50</td>\n",
              "      <td>4.2</td>\n",
              "      <td>361</td>\n",
              "      <td>225</td>\n",
              "    </tr>\n",
              "    <tr>\n",
              "      <th>1</th>\n",
              "      <td>ID_730</td>\n",
              "      <td>Mico Layout, Stage 2, BTM Layout,Bangalore</td>\n",
              "      <td>Biryani, Kebab</td>\n",
              "      <td>₹100</td>\n",
              "      <td>₹50</td>\n",
              "      <td>NEW</td>\n",
              "      <td>-</td>\n",
              "      <td>-</td>\n",
              "    </tr>\n",
              "    <tr>\n",
              "      <th>2</th>\n",
              "      <td>ID_4620</td>\n",
              "      <td>Sector 1, Noida</td>\n",
              "      <td>Fast Food</td>\n",
              "      <td>₹100</td>\n",
              "      <td>₹50</td>\n",
              "      <td>3.6</td>\n",
              "      <td>36</td>\n",
              "      <td>16</td>\n",
              "    </tr>\n",
              "    <tr>\n",
              "      <th>3</th>\n",
              "      <td>ID_5470</td>\n",
              "      <td>Babarpur, New Delhi, Delhi</td>\n",
              "      <td>Mithai, North Indian, Chinese, Fast Food, Sout...</td>\n",
              "      <td>₹200</td>\n",
              "      <td>₹50</td>\n",
              "      <td>3.6</td>\n",
              "      <td>66</td>\n",
              "      <td>33</td>\n",
              "    </tr>\n",
              "    <tr>\n",
              "      <th>4</th>\n",
              "      <td>ID_3249</td>\n",
              "      <td>Sector 1, Noida</td>\n",
              "      <td>Chinese, Fast Food</td>\n",
              "      <td>₹150</td>\n",
              "      <td>₹50</td>\n",
              "      <td>2.9</td>\n",
              "      <td>38</td>\n",
              "      <td>14</td>\n",
              "    </tr>\n",
              "  </tbody>\n",
              "</table>\n",
              "</div>"
            ],
            "text/plain": [
              "  Restaurant                                    Location  ... Votes Reviews\n",
              "0    ID_2842  Mico Layout, Stage 2, BTM Layout,Bangalore  ...   361     225\n",
              "1     ID_730  Mico Layout, Stage 2, BTM Layout,Bangalore  ...     -       -\n",
              "2    ID_4620                             Sector 1, Noida  ...    36      16\n",
              "3    ID_5470                  Babarpur, New Delhi, Delhi  ...    66      33\n",
              "4    ID_3249                             Sector 1, Noida  ...    38      14\n",
              "\n",
              "[5 rows x 8 columns]"
            ]
          },
          "metadata": {
            "tags": []
          },
          "execution_count": 13
        }
      ]
    },
    {
      "cell_type": "code",
      "metadata": {
        "colab_type": "code",
        "id": "cV8c6gTx_y1_",
        "outputId": "e94f2fab-3dac-409d-e606-43c821b6a856",
        "colab": {
          "base_uri": "https://localhost:8080/",
          "height": 175
        }
      },
      "source": [
        "test.isnull().sum()"
      ],
      "execution_count": 14,
      "outputs": [
        {
          "output_type": "execute_result",
          "data": {
            "text/plain": [
              "Restaurant       0\n",
              "Location         0\n",
              "Cuisines         0\n",
              "Average_Cost     0\n",
              "Minimum_Order    0\n",
              "Rating           0\n",
              "Votes            0\n",
              "Reviews          0\n",
              "dtype: int64"
            ]
          },
          "metadata": {
            "tags": []
          },
          "execution_count": 14
        }
      ]
    },
    {
      "cell_type": "code",
      "metadata": {
        "colab_type": "code",
        "id": "vMQHK61o___h",
        "outputId": "4d193f79-5c5a-4cd7-a6f7-24c27243470b",
        "colab": {
          "base_uri": "https://localhost:8080/",
          "height": 246
        }
      },
      "source": [
        "test.info()"
      ],
      "execution_count": 15,
      "outputs": [
        {
          "output_type": "stream",
          "text": [
            "<class 'pandas.core.frame.DataFrame'>\n",
            "RangeIndex: 2774 entries, 0 to 2773\n",
            "Data columns (total 8 columns):\n",
            "Restaurant       2774 non-null object\n",
            "Location         2774 non-null object\n",
            "Cuisines         2774 non-null object\n",
            "Average_Cost     2774 non-null object\n",
            "Minimum_Order    2774 non-null object\n",
            "Rating           2774 non-null object\n",
            "Votes            2774 non-null object\n",
            "Reviews          2774 non-null object\n",
            "dtypes: object(8)\n",
            "memory usage: 173.5+ KB\n"
          ],
          "name": "stdout"
        }
      ]
    },
    {
      "cell_type": "code",
      "metadata": {
        "colab_type": "code",
        "id": "mIMWYFUDAgAv",
        "outputId": "e3622044-761f-4c5d-9cd0-13a944efea55",
        "colab": {
          "base_uri": "https://localhost:8080/",
          "height": 166
        }
      },
      "source": [
        "test.describe(include = 'all')"
      ],
      "execution_count": 16,
      "outputs": [
        {
          "output_type": "execute_result",
          "data": {
            "text/html": [
              "<div>\n",
              "<style scoped>\n",
              "    .dataframe tbody tr th:only-of-type {\n",
              "        vertical-align: middle;\n",
              "    }\n",
              "\n",
              "    .dataframe tbody tr th {\n",
              "        vertical-align: top;\n",
              "    }\n",
              "\n",
              "    .dataframe thead th {\n",
              "        text-align: right;\n",
              "    }\n",
              "</style>\n",
              "<table border=\"1\" class=\"dataframe\">\n",
              "  <thead>\n",
              "    <tr style=\"text-align: right;\">\n",
              "      <th></th>\n",
              "      <th>Restaurant</th>\n",
              "      <th>Location</th>\n",
              "      <th>Cuisines</th>\n",
              "      <th>Average_Cost</th>\n",
              "      <th>Minimum_Order</th>\n",
              "      <th>Rating</th>\n",
              "      <th>Votes</th>\n",
              "      <th>Reviews</th>\n",
              "    </tr>\n",
              "  </thead>\n",
              "  <tbody>\n",
              "    <tr>\n",
              "      <th>count</th>\n",
              "      <td>2774</td>\n",
              "      <td>2774</td>\n",
              "      <td>2774</td>\n",
              "      <td>2774</td>\n",
              "      <td>2774</td>\n",
              "      <td>2774</td>\n",
              "      <td>2774</td>\n",
              "      <td>2774</td>\n",
              "    </tr>\n",
              "    <tr>\n",
              "      <th>unique</th>\n",
              "      <td>2401</td>\n",
              "      <td>35</td>\n",
              "      <td>881</td>\n",
              "      <td>19</td>\n",
              "      <td>9</td>\n",
              "      <td>30</td>\n",
              "      <td>580</td>\n",
              "      <td>392</td>\n",
              "    </tr>\n",
              "    <tr>\n",
              "      <th>top</th>\n",
              "      <td>ID_1209</td>\n",
              "      <td>D-Block, Sector 63, Noida</td>\n",
              "      <td>North Indian</td>\n",
              "      <td>₹200</td>\n",
              "      <td>₹50</td>\n",
              "      <td>-</td>\n",
              "      <td>-</td>\n",
              "      <td>-</td>\n",
              "    </tr>\n",
              "    <tr>\n",
              "      <th>freq</th>\n",
              "      <td>8</td>\n",
              "      <td>221</td>\n",
              "      <td>226</td>\n",
              "      <td>820</td>\n",
              "      <td>2556</td>\n",
              "      <td>305</td>\n",
              "      <td>542</td>\n",
              "      <td>593</td>\n",
              "    </tr>\n",
              "  </tbody>\n",
              "</table>\n",
              "</div>"
            ],
            "text/plain": [
              "       Restaurant                   Location      Cuisines  ... Rating Votes Reviews\n",
              "count        2774                       2774          2774  ...   2774  2774    2774\n",
              "unique       2401                         35           881  ...     30   580     392\n",
              "top       ID_1209  D-Block, Sector 63, Noida  North Indian  ...      -     -       -\n",
              "freq            8                        221           226  ...    305   542     593\n",
              "\n",
              "[4 rows x 8 columns]"
            ]
          },
          "metadata": {
            "tags": []
          },
          "execution_count": 16
        }
      ]
    },
    {
      "cell_type": "markdown",
      "metadata": {
        "colab_type": "text",
        "id": "_YYJ_HI9A1qg"
      },
      "source": [
        "##Data Cleaning"
      ]
    },
    {
      "cell_type": "markdown",
      "metadata": {
        "colab_type": "text",
        "id": "yyJYTvr8RjwO"
      },
      "source": [
        "We will consider the following features of training and test datasets. Here I have grouped the columns based on similarity of values which will make it easy for cleaning.\n",
        "\n",
        "* Cleaning Average_Cost & Minimum_order columns to remove special characters and make them float variables.\n",
        "* Location & Cuisines are categoriacal variables that needs to be cleaned before encoding.\n",
        "* Rating, Votes & Reviews needs to be cleaned and converted to respective types.\n",
        "\n",
        "We will delve deeper in the coming sections.\n",
        "\n"
      ]
    },
    {
      "cell_type": "markdown",
      "metadata": {
        "colab_type": "text",
        "id": "pwjvNSkCBLC6"
      },
      "source": [
        "####Average_Cost\t& Minimum_order"
      ]
    },
    {
      "cell_type": "code",
      "metadata": {
        "colab_type": "code",
        "id": "sRsfJuPbkW3C",
        "outputId": "5d4d76d9-13fc-4698-b5da-7fb1cc145eaa",
        "colab": {
          "base_uri": "https://localhost:8080/",
          "height": 212
        }
      },
      "source": [
        "train.head()"
      ],
      "execution_count": 17,
      "outputs": [
        {
          "output_type": "execute_result",
          "data": {
            "text/html": [
              "<div>\n",
              "<style scoped>\n",
              "    .dataframe tbody tr th:only-of-type {\n",
              "        vertical-align: middle;\n",
              "    }\n",
              "\n",
              "    .dataframe tbody tr th {\n",
              "        vertical-align: top;\n",
              "    }\n",
              "\n",
              "    .dataframe thead th {\n",
              "        text-align: right;\n",
              "    }\n",
              "</style>\n",
              "<table border=\"1\" class=\"dataframe\">\n",
              "  <thead>\n",
              "    <tr style=\"text-align: right;\">\n",
              "      <th></th>\n",
              "      <th>Restaurant</th>\n",
              "      <th>Location</th>\n",
              "      <th>Cuisines</th>\n",
              "      <th>Average_Cost</th>\n",
              "      <th>Minimum_Order</th>\n",
              "      <th>Rating</th>\n",
              "      <th>Votes</th>\n",
              "      <th>Reviews</th>\n",
              "      <th>Delivery_Time</th>\n",
              "    </tr>\n",
              "  </thead>\n",
              "  <tbody>\n",
              "    <tr>\n",
              "      <th>0</th>\n",
              "      <td>ID_6321</td>\n",
              "      <td>FTI College, Law College Road, Pune</td>\n",
              "      <td>Fast Food, Rolls, Burger, Salad, Wraps</td>\n",
              "      <td>₹200</td>\n",
              "      <td>₹50</td>\n",
              "      <td>3.5</td>\n",
              "      <td>12</td>\n",
              "      <td>4</td>\n",
              "      <td>30 minutes</td>\n",
              "    </tr>\n",
              "    <tr>\n",
              "      <th>1</th>\n",
              "      <td>ID_2882</td>\n",
              "      <td>Sector 3, Marathalli</td>\n",
              "      <td>Ice Cream, Desserts</td>\n",
              "      <td>₹100</td>\n",
              "      <td>₹50</td>\n",
              "      <td>3.5</td>\n",
              "      <td>11</td>\n",
              "      <td>4</td>\n",
              "      <td>30 minutes</td>\n",
              "    </tr>\n",
              "    <tr>\n",
              "      <th>2</th>\n",
              "      <td>ID_1595</td>\n",
              "      <td>Mumbai Central</td>\n",
              "      <td>Italian, Street Food, Fast Food</td>\n",
              "      <td>₹150</td>\n",
              "      <td>₹50</td>\n",
              "      <td>3.6</td>\n",
              "      <td>99</td>\n",
              "      <td>30</td>\n",
              "      <td>65 minutes</td>\n",
              "    </tr>\n",
              "    <tr>\n",
              "      <th>3</th>\n",
              "      <td>ID_5929</td>\n",
              "      <td>Sector 1, Noida</td>\n",
              "      <td>Mughlai, North Indian, Chinese</td>\n",
              "      <td>₹250</td>\n",
              "      <td>₹99</td>\n",
              "      <td>3.7</td>\n",
              "      <td>176</td>\n",
              "      <td>95</td>\n",
              "      <td>30 minutes</td>\n",
              "    </tr>\n",
              "    <tr>\n",
              "      <th>4</th>\n",
              "      <td>ID_6123</td>\n",
              "      <td>Rmz Centennial, I Gate, Whitefield</td>\n",
              "      <td>Cafe, Beverages</td>\n",
              "      <td>₹200</td>\n",
              "      <td>₹99</td>\n",
              "      <td>3.2</td>\n",
              "      <td>521</td>\n",
              "      <td>235</td>\n",
              "      <td>65 minutes</td>\n",
              "    </tr>\n",
              "  </tbody>\n",
              "</table>\n",
              "</div>"
            ],
            "text/plain": [
              "  Restaurant                             Location  ... Reviews Delivery_Time\n",
              "0    ID_6321  FTI College, Law College Road, Pune  ...       4    30 minutes\n",
              "1    ID_2882                 Sector 3, Marathalli  ...       4    30 minutes\n",
              "2    ID_1595                       Mumbai Central  ...      30    65 minutes\n",
              "3    ID_5929                      Sector 1, Noida  ...      95    30 minutes\n",
              "4    ID_6123   Rmz Centennial, I Gate, Whitefield  ...     235    65 minutes\n",
              "\n",
              "[5 rows x 9 columns]"
            ]
          },
          "metadata": {
            "tags": []
          },
          "execution_count": 17
        }
      ]
    },
    {
      "cell_type": "code",
      "metadata": {
        "colab_type": "code",
        "id": "tqNZCFbcm15K",
        "outputId": "b5e11455-3f89-45eb-d1c3-8cb72f9da28d",
        "colab": {
          "base_uri": "https://localhost:8080/",
          "height": 87
        }
      },
      "source": [
        "#Finding the unique values in Average_Cost\n",
        "train['Average_Cost'].unique()"
      ],
      "execution_count": 18,
      "outputs": [
        {
          "output_type": "execute_result",
          "data": {
            "text/plain": [
              "array(['₹200', '₹100', '₹150', '₹250', '₹650', '₹350', '₹800', '₹50',\n",
              "       '₹400', '₹600', '₹300', '₹750', '₹450', '₹550', '₹1,000', '₹500',\n",
              "       '₹900', '₹1,200', '₹950', '₹850', '₹700', '₹1,150', 'for',\n",
              "       '₹1,100', '₹1,400', '₹2,050'], dtype=object)"
            ]
          },
          "metadata": {
            "tags": []
          },
          "execution_count": 18
        }
      ]
    },
    {
      "cell_type": "markdown",
      "metadata": {
        "colab_type": "text",
        "id": "XCtKvvfUTRqn"
      },
      "source": [
        "The Average_Cost has an invalid value in one of its rows. We will replace it with 200 which is the most frequent value in the column.(Check the train.describe() method). We will add 200 as a string and not as an integer as the column is of type object and all its values are strings."
      ]
    },
    {
      "cell_type": "code",
      "metadata": {
        "colab_type": "code",
        "id": "9eFmcCodty24",
        "outputId": "9f9ce5b8-b4c3-450a-f084-1eca31c7bfdf",
        "colab": {
          "base_uri": "https://localhost:8080/",
          "height": 77
        }
      },
      "source": [
        "train[train['Average_Cost'] == 'for']"
      ],
      "execution_count": 19,
      "outputs": [
        {
          "output_type": "execute_result",
          "data": {
            "text/html": [
              "<div>\n",
              "<style scoped>\n",
              "    .dataframe tbody tr th:only-of-type {\n",
              "        vertical-align: middle;\n",
              "    }\n",
              "\n",
              "    .dataframe tbody tr th {\n",
              "        vertical-align: top;\n",
              "    }\n",
              "\n",
              "    .dataframe thead th {\n",
              "        text-align: right;\n",
              "    }\n",
              "</style>\n",
              "<table border=\"1\" class=\"dataframe\">\n",
              "  <thead>\n",
              "    <tr style=\"text-align: right;\">\n",
              "      <th></th>\n",
              "      <th>Restaurant</th>\n",
              "      <th>Location</th>\n",
              "      <th>Cuisines</th>\n",
              "      <th>Average_Cost</th>\n",
              "      <th>Minimum_Order</th>\n",
              "      <th>Rating</th>\n",
              "      <th>Votes</th>\n",
              "      <th>Reviews</th>\n",
              "      <th>Delivery_Time</th>\n",
              "    </tr>\n",
              "  </thead>\n",
              "  <tbody>\n",
              "    <tr>\n",
              "      <th>6297</th>\n",
              "      <td>ID_6472</td>\n",
              "      <td>Pune University</td>\n",
              "      <td>Fast Food</td>\n",
              "      <td>for</td>\n",
              "      <td>₹50</td>\n",
              "      <td>NEW</td>\n",
              "      <td>-</td>\n",
              "      <td>-</td>\n",
              "      <td>30 minutes</td>\n",
              "    </tr>\n",
              "  </tbody>\n",
              "</table>\n",
              "</div>"
            ],
            "text/plain": [
              "     Restaurant         Location   Cuisines  ... Votes Reviews Delivery_Time\n",
              "6297    ID_6472  Pune University  Fast Food  ...     -       -    30 minutes\n",
              "\n",
              "[1 rows x 9 columns]"
            ]
          },
          "metadata": {
            "tags": []
          },
          "execution_count": 19
        }
      ]
    },
    {
      "cell_type": "code",
      "metadata": {
        "colab_type": "code",
        "id": "YxAdTpeojHJF",
        "colab": {}
      },
      "source": [
        "#replacing 'for' with 200\n",
        "train['Average_Cost'].replace('for', '200', inplace = True)"
      ],
      "execution_count": 0,
      "outputs": []
    },
    {
      "cell_type": "markdown",
      "metadata": {
        "colab_type": "text",
        "id": "Mo-S0e7HT2T2"
      },
      "source": [
        "Now we will clean all the values and will convert it in to integer. "
      ]
    },
    {
      "cell_type": "code",
      "metadata": {
        "colab_type": "code",
        "id": "eoJghDs-OB-K",
        "colab": {}
      },
      "source": [
        "train['Average_Cost_Cleaned'] = train['Average_Cost'].apply(lambda x: int(re.sub(\"[^0-9]\", \"\", x)))"
      ],
      "execution_count": 0,
      "outputs": []
    },
    {
      "cell_type": "code",
      "metadata": {
        "colab_type": "code",
        "id": "H_POcn32wdck",
        "outputId": "16470ab0-286c-4f69-ac75-3f2db78c4c3b",
        "colab": {
          "base_uri": "https://localhost:8080/",
          "height": 70
        }
      },
      "source": [
        "train['Average_Cost_Cleaned'].unique()"
      ],
      "execution_count": 22,
      "outputs": [
        {
          "output_type": "execute_result",
          "data": {
            "text/plain": [
              "array([ 200,  100,  150,  250,  650,  350,  800,   50,  400,  600,  300,\n",
              "        750,  450,  550, 1000,  500,  900, 1200,  950,  850,  700, 1150,\n",
              "       1100, 1400, 2050])"
            ]
          },
          "metadata": {
            "tags": []
          },
          "execution_count": 22
        }
      ]
    },
    {
      "cell_type": "markdown",
      "metadata": {
        "colab_type": "text",
        "id": "iNlGUAMuUTye"
      },
      "source": [
        "We can see that all the special characters ahave been removed and strings have been converted to integers.\n",
        "\n",
        "---\n",
        "\n",
        "Let's perform the same operations on the test set\n"
      ]
    },
    {
      "cell_type": "code",
      "metadata": {
        "colab_type": "code",
        "id": "wCZxzEqSOB8D",
        "outputId": "f5b32377-e7cb-4560-8bdd-dae7244f379f",
        "colab": {
          "base_uri": "https://localhost:8080/",
          "height": 70
        }
      },
      "source": [
        "test['Average_Cost'].unique()"
      ],
      "execution_count": 23,
      "outputs": [
        {
          "output_type": "execute_result",
          "data": {
            "text/plain": [
              "array(['₹350', '₹100', '₹200', '₹150', '₹300', '₹50', '₹250', '₹500',\n",
              "       '₹650', '₹400', '₹550', '₹450', '₹600', '₹750', '₹850', '₹1,000',\n",
              "       '₹700', '₹800', '₹1,200'], dtype=object)"
            ]
          },
          "metadata": {
            "tags": []
          },
          "execution_count": 23
        }
      ]
    },
    {
      "cell_type": "code",
      "metadata": {
        "colab_type": "code",
        "id": "Q4gYXWVhOB6S",
        "colab": {}
      },
      "source": [
        "test['Average_Cost_Cleaned'] = test['Average_Cost'].apply(lambda x: int(re.sub(\"[^0-9]\", \"\", x)))"
      ],
      "execution_count": 0,
      "outputs": []
    },
    {
      "cell_type": "code",
      "metadata": {
        "colab_type": "code",
        "id": "hmDLCsnVwoLi",
        "outputId": "9c554fdb-79a8-4f36-cd6e-564a17714a08",
        "colab": {
          "base_uri": "https://localhost:8080/",
          "height": 52
        }
      },
      "source": [
        "test['Average_Cost_Cleaned'].unique()"
      ],
      "execution_count": 25,
      "outputs": [
        {
          "output_type": "execute_result",
          "data": {
            "text/plain": [
              "array([ 350,  100,  200,  150,  300,   50,  250,  500,  650,  400,  550,\n",
              "        450,  600,  750,  850, 1000,  700,  800, 1200])"
            ]
          },
          "metadata": {
            "tags": []
          },
          "execution_count": 25
        }
      ]
    },
    {
      "cell_type": "markdown",
      "metadata": {
        "colab_type": "text",
        "id": "0TtRyWCAUwfC"
      },
      "source": [
        "Now lets do the same for Minimum_Order column"
      ]
    },
    {
      "cell_type": "code",
      "metadata": {
        "colab_type": "code",
        "id": "XgKZKZYEJHdu",
        "outputId": "b70f6afd-8ba6-46d2-b010-be6d54ddcc1a",
        "colab": {
          "base_uri": "https://localhost:8080/",
          "height": 70
        }
      },
      "source": [
        "train['Minimum_Order'].unique()"
      ],
      "execution_count": 26,
      "outputs": [
        {
          "output_type": "execute_result",
          "data": {
            "text/plain": [
              "array(['₹50', '₹99', '₹0', '₹200', '₹450', '₹350', '₹79', '₹400', '₹199',\n",
              "       '₹500', '₹250', '₹150', '₹90', '₹299', '₹300', '₹240', '₹89',\n",
              "       '₹59'], dtype=object)"
            ]
          },
          "metadata": {
            "tags": []
          },
          "execution_count": 26
        }
      ]
    },
    {
      "cell_type": "code",
      "metadata": {
        "colab_type": "code",
        "id": "P3a-jxJDUNXu",
        "colab": {}
      },
      "source": [
        "train['Minimum_Order_Cleaned'] = train['Minimum_Order'].apply(lambda x: int(re.sub(\"[^0-9]\", \"\", x)))"
      ],
      "execution_count": 0,
      "outputs": []
    },
    {
      "cell_type": "code",
      "metadata": {
        "colab_type": "code",
        "id": "2KZl-XPAUNV3",
        "outputId": "85e6ace4-1596-4c86-8430-efe4b06df3c4",
        "colab": {
          "base_uri": "https://localhost:8080/",
          "height": 52
        }
      },
      "source": [
        "test['Minimum_Order'].unique()"
      ],
      "execution_count": 28,
      "outputs": [
        {
          "output_type": "execute_result",
          "data": {
            "text/plain": [
              "array(['₹50', '₹99', '₹500', '₹0', '₹200', '₹149', '₹199', '₹399', '₹89'],\n",
              "      dtype=object)"
            ]
          },
          "metadata": {
            "tags": []
          },
          "execution_count": 28
        }
      ]
    },
    {
      "cell_type": "code",
      "metadata": {
        "colab_type": "code",
        "id": "uZMbJwFnUNTh",
        "colab": {}
      },
      "source": [
        "test['Minimum_Order_Cleaned'] = test['Minimum_Order'].apply(lambda x: int(re.sub(\"[^0-9]\", \"\", x)))"
      ],
      "execution_count": 0,
      "outputs": []
    },
    {
      "cell_type": "code",
      "metadata": {
        "colab_type": "code",
        "id": "NRddLSAzUNRu",
        "outputId": "d8e74757-f929-461a-b83c-64523a38c723",
        "colab": {
          "base_uri": "https://localhost:8080/",
          "height": 467
        }
      },
      "source": [
        "train.head()"
      ],
      "execution_count": 30,
      "outputs": [
        {
          "output_type": "execute_result",
          "data": {
            "text/html": [
              "<div>\n",
              "<style scoped>\n",
              "    .dataframe tbody tr th:only-of-type {\n",
              "        vertical-align: middle;\n",
              "    }\n",
              "\n",
              "    .dataframe tbody tr th {\n",
              "        vertical-align: top;\n",
              "    }\n",
              "\n",
              "    .dataframe thead th {\n",
              "        text-align: right;\n",
              "    }\n",
              "</style>\n",
              "<table border=\"1\" class=\"dataframe\">\n",
              "  <thead>\n",
              "    <tr style=\"text-align: right;\">\n",
              "      <th></th>\n",
              "      <th>Restaurant</th>\n",
              "      <th>Location</th>\n",
              "      <th>Cuisines</th>\n",
              "      <th>Average_Cost</th>\n",
              "      <th>Minimum_Order</th>\n",
              "      <th>Rating</th>\n",
              "      <th>Votes</th>\n",
              "      <th>Reviews</th>\n",
              "      <th>Delivery_Time</th>\n",
              "      <th>Average_Cost_Cleaned</th>\n",
              "      <th>Minimum_Order_Cleaned</th>\n",
              "    </tr>\n",
              "  </thead>\n",
              "  <tbody>\n",
              "    <tr>\n",
              "      <th>0</th>\n",
              "      <td>ID_6321</td>\n",
              "      <td>FTI College, Law College Road, Pune</td>\n",
              "      <td>Fast Food, Rolls, Burger, Salad, Wraps</td>\n",
              "      <td>₹200</td>\n",
              "      <td>₹50</td>\n",
              "      <td>3.5</td>\n",
              "      <td>12</td>\n",
              "      <td>4</td>\n",
              "      <td>30 minutes</td>\n",
              "      <td>200</td>\n",
              "      <td>50</td>\n",
              "    </tr>\n",
              "    <tr>\n",
              "      <th>1</th>\n",
              "      <td>ID_2882</td>\n",
              "      <td>Sector 3, Marathalli</td>\n",
              "      <td>Ice Cream, Desserts</td>\n",
              "      <td>₹100</td>\n",
              "      <td>₹50</td>\n",
              "      <td>3.5</td>\n",
              "      <td>11</td>\n",
              "      <td>4</td>\n",
              "      <td>30 minutes</td>\n",
              "      <td>100</td>\n",
              "      <td>50</td>\n",
              "    </tr>\n",
              "    <tr>\n",
              "      <th>2</th>\n",
              "      <td>ID_1595</td>\n",
              "      <td>Mumbai Central</td>\n",
              "      <td>Italian, Street Food, Fast Food</td>\n",
              "      <td>₹150</td>\n",
              "      <td>₹50</td>\n",
              "      <td>3.6</td>\n",
              "      <td>99</td>\n",
              "      <td>30</td>\n",
              "      <td>65 minutes</td>\n",
              "      <td>150</td>\n",
              "      <td>50</td>\n",
              "    </tr>\n",
              "    <tr>\n",
              "      <th>3</th>\n",
              "      <td>ID_5929</td>\n",
              "      <td>Sector 1, Noida</td>\n",
              "      <td>Mughlai, North Indian, Chinese</td>\n",
              "      <td>₹250</td>\n",
              "      <td>₹99</td>\n",
              "      <td>3.7</td>\n",
              "      <td>176</td>\n",
              "      <td>95</td>\n",
              "      <td>30 minutes</td>\n",
              "      <td>250</td>\n",
              "      <td>99</td>\n",
              "    </tr>\n",
              "    <tr>\n",
              "      <th>4</th>\n",
              "      <td>ID_6123</td>\n",
              "      <td>Rmz Centennial, I Gate, Whitefield</td>\n",
              "      <td>Cafe, Beverages</td>\n",
              "      <td>₹200</td>\n",
              "      <td>₹99</td>\n",
              "      <td>3.2</td>\n",
              "      <td>521</td>\n",
              "      <td>235</td>\n",
              "      <td>65 minutes</td>\n",
              "      <td>200</td>\n",
              "      <td>99</td>\n",
              "    </tr>\n",
              "  </tbody>\n",
              "</table>\n",
              "</div>"
            ],
            "text/plain": [
              "  Restaurant  ... Minimum_Order_Cleaned\n",
              "0    ID_6321  ...                    50\n",
              "1    ID_2882  ...                    50\n",
              "2    ID_1595  ...                    50\n",
              "3    ID_5929  ...                    99\n",
              "4    ID_6123  ...                    99\n",
              "\n",
              "[5 rows x 11 columns]"
            ]
          },
          "metadata": {
            "tags": []
          },
          "execution_count": 30
        }
      ]
    },
    {
      "cell_type": "markdown",
      "metadata": {
        "colab_type": "text",
        "id": "Hjn_pdlpBD8w"
      },
      "source": [
        "####Location & CUISINES"
      ]
    },
    {
      "cell_type": "markdown",
      "metadata": {
        "colab_type": "text",
        "id": "1S2LHft5U9YN"
      },
      "source": [
        "Location and Cuisines are categorical variables that need to be encoded later. By looking at the dataset, we can see that each of these columns have multiple values in them. We can use each of them as a feature by splitting each column into n number of features.\n",
        "To do that we will first find the maximum number(n) of features a column has in the entire dataset including both test and train data. Once the maximum number of features within a cell is found, we will split all the rows in the dataset for that specific column into n features. \n"
      ]
    },
    {
      "cell_type": "code",
      "metadata": {
        "colab_type": "code",
        "id": "TlVQYHp0Sldz",
        "colab": {}
      },
      "source": [
        "#A function to find the maximun number of features in a single cell\n",
        "def max_features_in_single_row(train, test, delimiter):\n",
        "  max_info = 0 \n",
        "  item_lis = list(train.append(test))\n",
        "  for i in item_lis:\n",
        "    if len(i.split(\"{}\".format(delimiter))) > max_info:\n",
        "      max_info = len(i.split(\"{}\".format(delimiter)))\n",
        "  print(\"\\n\",\"-\"*35)    \n",
        "  print(\"Max_Features in One Observation = \", max_info)\n",
        "  return max_info"
      ],
      "execution_count": 0,
      "outputs": []
    },
    {
      "cell_type": "code",
      "metadata": {
        "colab_type": "code",
        "id": "3eNvsPsPlVjZ",
        "colab": {}
      },
      "source": [
        "#This function splits a column in to n features where n is the maximum number of features in a single cell\n",
        "def feature_splitter(feat, name, delimiter, max_info):\n",
        "  item_lis = list(feat)\n",
        "  extracted_features = {}\n",
        "\n",
        "  for i in range(max_info):\n",
        "    extracted_features['{}_Feature_{}'.format(name, i+1)] = []\n",
        "  \n",
        "  print(\"-\"*35)\n",
        "  print(\"Features Dictionary : \", extracted_features)\n",
        "\n",
        "  for i in tqdm(range(len(item_lis))):\n",
        "    for j in range(max_info):  \n",
        "      try:\n",
        "        extracted_features['{}_Feature_{}'.format(name,j+1)].append(item_lis[i].split(\"{}\".format(delimiter))[j].lower().strip())\n",
        "      except: \n",
        "        extracted_features['{}_Feature_{}'.format(name, j+1)].append(np.nan)\n",
        "\n",
        "\n",
        "  return extracted_features\n"
      ],
      "execution_count": 0,
      "outputs": []
    },
    {
      "cell_type": "code",
      "metadata": {
        "colab_type": "code",
        "id": "hIgyWIdKNiXi",
        "outputId": "61dc17a9-26c7-4279-98ad-aa8ece747851",
        "colab": {
          "base_uri": "https://localhost:8080/",
          "height": 175
        }
      },
      "source": [
        "#Splitting Location\n",
        "loc_max = max_features_in_single_row(test['Location'],train['Location'], ',')\n",
        "train_Location_splits = feature_splitter(train['Location'], 'Location', ',', loc_max)\n",
        "test_Location_splits = feature_splitter(test['Location'], 'Location', ',', loc_max)\n"
      ],
      "execution_count": 33,
      "outputs": [
        {
          "output_type": "stream",
          "text": [
            "100%|██████████| 11094/11094 [00:00<00:00, 200329.82it/s]\n",
            "100%|██████████| 2774/2774 [00:00<00:00, 146446.14it/s]"
          ],
          "name": "stderr"
        },
        {
          "output_type": "stream",
          "text": [
            "\n",
            " -----------------------------------\n",
            "Max_Features in One Observation =  4\n",
            "-----------------------------------\n",
            "Features Dictionary :  {'Location_Feature_1': [], 'Location_Feature_2': [], 'Location_Feature_3': [], 'Location_Feature_4': []}\n",
            "-----------------------------------\n",
            "Features Dictionary :  {'Location_Feature_1': [], 'Location_Feature_2': [], 'Location_Feature_3': [], 'Location_Feature_4': []}\n"
          ],
          "name": "stdout"
        },
        {
          "output_type": "stream",
          "text": [
            "\n"
          ],
          "name": "stderr"
        }
      ]
    },
    {
      "cell_type": "code",
      "metadata": {
        "colab_type": "code",
        "id": "KqcwdG_gkCPa",
        "outputId": "177a9d0a-39ec-44a8-ef3b-a21db97fe66f",
        "colab": {
          "base_uri": "https://localhost:8080/",
          "height": 195
        }
      },
      "source": [
        "#Splitting Cuisines\n",
        "cus_max = max_features_in_single_row(test['Cuisines'],train['Cuisines'], ',')\n",
        "train_Cuisines_splits = feature_splitter(train['Cuisines'], 'Cuisines', ',', cus_max)\n",
        "test_Cuisines_splits = feature_splitter(test['Cuisines'], 'Cuisines', ',', cus_max)"
      ],
      "execution_count": 34,
      "outputs": [
        {
          "output_type": "stream",
          "text": [
            "\r  0%|          | 0/11094 [00:00<?, ?it/s]"
          ],
          "name": "stderr"
        },
        {
          "output_type": "stream",
          "text": [
            "\n",
            " -----------------------------------\n",
            "Max_Features in One Observation =  8\n",
            "-----------------------------------\n",
            "Features Dictionary :  {'Cuisines_Feature_1': [], 'Cuisines_Feature_2': [], 'Cuisines_Feature_3': [], 'Cuisines_Feature_4': [], 'Cuisines_Feature_5': [], 'Cuisines_Feature_6': [], 'Cuisines_Feature_7': [], 'Cuisines_Feature_8': []}\n"
          ],
          "name": "stdout"
        },
        {
          "output_type": "stream",
          "text": [
            "100%|██████████| 11094/11094 [00:00<00:00, 97491.47it/s]\n",
            "100%|██████████| 2774/2774 [00:00<00:00, 92581.54it/s]"
          ],
          "name": "stderr"
        },
        {
          "output_type": "stream",
          "text": [
            "-----------------------------------\n",
            "Features Dictionary :  {'Cuisines_Feature_1': [], 'Cuisines_Feature_2': [], 'Cuisines_Feature_3': [], 'Cuisines_Feature_4': [], 'Cuisines_Feature_5': [], 'Cuisines_Feature_6': [], 'Cuisines_Feature_7': [], 'Cuisines_Feature_8': []}\n"
          ],
          "name": "stdout"
        },
        {
          "output_type": "stream",
          "text": [
            "\n"
          ],
          "name": "stderr"
        }
      ]
    },
    {
      "cell_type": "markdown",
      "metadata": {
        "colab_type": "text",
        "id": "telTCWSRUvZp"
      },
      "source": [
        "####Rating, Votes & Reviews"
      ]
    },
    {
      "cell_type": "markdown",
      "metadata": {
        "colab_type": "text",
        "id": "br9VvuoNW0nB"
      },
      "source": [
        "We will now clean Rating, Votes & Reviews columns to remove invalid values and to convert them to the right type."
      ]
    },
    {
      "cell_type": "code",
      "metadata": {
        "colab_type": "code",
        "id": "pdSxC7iJVJVA",
        "outputId": "c94f2f88-70ef-4366-f92a-1ab74f96ebdc",
        "colab": {
          "base_uri": "https://localhost:8080/",
          "height": 426
        }
      },
      "source": [
        "train.describe(include = 'all')"
      ],
      "execution_count": 35,
      "outputs": [
        {
          "output_type": "execute_result",
          "data": {
            "text/html": [
              "<div>\n",
              "<style scoped>\n",
              "    .dataframe tbody tr th:only-of-type {\n",
              "        vertical-align: middle;\n",
              "    }\n",
              "\n",
              "    .dataframe tbody tr th {\n",
              "        vertical-align: top;\n",
              "    }\n",
              "\n",
              "    .dataframe thead th {\n",
              "        text-align: right;\n",
              "    }\n",
              "</style>\n",
              "<table border=\"1\" class=\"dataframe\">\n",
              "  <thead>\n",
              "    <tr style=\"text-align: right;\">\n",
              "      <th></th>\n",
              "      <th>Restaurant</th>\n",
              "      <th>Location</th>\n",
              "      <th>Cuisines</th>\n",
              "      <th>Average_Cost</th>\n",
              "      <th>Minimum_Order</th>\n",
              "      <th>Rating</th>\n",
              "      <th>Votes</th>\n",
              "      <th>Reviews</th>\n",
              "      <th>Delivery_Time</th>\n",
              "      <th>Average_Cost_Cleaned</th>\n",
              "      <th>Minimum_Order_Cleaned</th>\n",
              "    </tr>\n",
              "  </thead>\n",
              "  <tbody>\n",
              "    <tr>\n",
              "      <th>count</th>\n",
              "      <td>11094</td>\n",
              "      <td>11094</td>\n",
              "      <td>11094</td>\n",
              "      <td>11094</td>\n",
              "      <td>11094</td>\n",
              "      <td>11094</td>\n",
              "      <td>11094</td>\n",
              "      <td>11094</td>\n",
              "      <td>11094</td>\n",
              "      <td>11094.000000</td>\n",
              "      <td>11094.000000</td>\n",
              "    </tr>\n",
              "    <tr>\n",
              "      <th>unique</th>\n",
              "      <td>7480</td>\n",
              "      <td>35</td>\n",
              "      <td>2179</td>\n",
              "      <td>26</td>\n",
              "      <td>18</td>\n",
              "      <td>33</td>\n",
              "      <td>1103</td>\n",
              "      <td>761</td>\n",
              "      <td>7</td>\n",
              "      <td>NaN</td>\n",
              "      <td>NaN</td>\n",
              "    </tr>\n",
              "    <tr>\n",
              "      <th>top</th>\n",
              "      <td>ID_7184</td>\n",
              "      <td>Mico Layout, Stage 2, BTM Layout,Bangalore</td>\n",
              "      <td>North Indian</td>\n",
              "      <td>₹200</td>\n",
              "      <td>₹50</td>\n",
              "      <td>-</td>\n",
              "      <td>-</td>\n",
              "      <td>-</td>\n",
              "      <td>30 minutes</td>\n",
              "      <td>NaN</td>\n",
              "      <td>NaN</td>\n",
              "    </tr>\n",
              "    <tr>\n",
              "      <th>freq</th>\n",
              "      <td>22</td>\n",
              "      <td>947</td>\n",
              "      <td>850</td>\n",
              "      <td>3241</td>\n",
              "      <td>10118</td>\n",
              "      <td>1191</td>\n",
              "      <td>2074</td>\n",
              "      <td>2312</td>\n",
              "      <td>7406</td>\n",
              "      <td>NaN</td>\n",
              "      <td>NaN</td>\n",
              "    </tr>\n",
              "    <tr>\n",
              "      <th>mean</th>\n",
              "      <td>NaN</td>\n",
              "      <td>NaN</td>\n",
              "      <td>NaN</td>\n",
              "      <td>NaN</td>\n",
              "      <td>NaN</td>\n",
              "      <td>NaN</td>\n",
              "      <td>NaN</td>\n",
              "      <td>NaN</td>\n",
              "      <td>NaN</td>\n",
              "      <td>202.708671</td>\n",
              "      <td>53.344511</td>\n",
              "    </tr>\n",
              "    <tr>\n",
              "      <th>std</th>\n",
              "      <td>NaN</td>\n",
              "      <td>NaN</td>\n",
              "      <td>NaN</td>\n",
              "      <td>NaN</td>\n",
              "      <td>NaN</td>\n",
              "      <td>NaN</td>\n",
              "      <td>NaN</td>\n",
              "      <td>NaN</td>\n",
              "      <td>NaN</td>\n",
              "      <td>129.833261</td>\n",
              "      <td>18.551245</td>\n",
              "    </tr>\n",
              "    <tr>\n",
              "      <th>min</th>\n",
              "      <td>NaN</td>\n",
              "      <td>NaN</td>\n",
              "      <td>NaN</td>\n",
              "      <td>NaN</td>\n",
              "      <td>NaN</td>\n",
              "      <td>NaN</td>\n",
              "      <td>NaN</td>\n",
              "      <td>NaN</td>\n",
              "      <td>NaN</td>\n",
              "      <td>50.000000</td>\n",
              "      <td>0.000000</td>\n",
              "    </tr>\n",
              "    <tr>\n",
              "      <th>25%</th>\n",
              "      <td>NaN</td>\n",
              "      <td>NaN</td>\n",
              "      <td>NaN</td>\n",
              "      <td>NaN</td>\n",
              "      <td>NaN</td>\n",
              "      <td>NaN</td>\n",
              "      <td>NaN</td>\n",
              "      <td>NaN</td>\n",
              "      <td>NaN</td>\n",
              "      <td>100.000000</td>\n",
              "      <td>50.000000</td>\n",
              "    </tr>\n",
              "    <tr>\n",
              "      <th>50%</th>\n",
              "      <td>NaN</td>\n",
              "      <td>NaN</td>\n",
              "      <td>NaN</td>\n",
              "      <td>NaN</td>\n",
              "      <td>NaN</td>\n",
              "      <td>NaN</td>\n",
              "      <td>NaN</td>\n",
              "      <td>NaN</td>\n",
              "      <td>NaN</td>\n",
              "      <td>200.000000</td>\n",
              "      <td>50.000000</td>\n",
              "    </tr>\n",
              "    <tr>\n",
              "      <th>75%</th>\n",
              "      <td>NaN</td>\n",
              "      <td>NaN</td>\n",
              "      <td>NaN</td>\n",
              "      <td>NaN</td>\n",
              "      <td>NaN</td>\n",
              "      <td>NaN</td>\n",
              "      <td>NaN</td>\n",
              "      <td>NaN</td>\n",
              "      <td>NaN</td>\n",
              "      <td>200.000000</td>\n",
              "      <td>50.000000</td>\n",
              "    </tr>\n",
              "    <tr>\n",
              "      <th>max</th>\n",
              "      <td>NaN</td>\n",
              "      <td>NaN</td>\n",
              "      <td>NaN</td>\n",
              "      <td>NaN</td>\n",
              "      <td>NaN</td>\n",
              "      <td>NaN</td>\n",
              "      <td>NaN</td>\n",
              "      <td>NaN</td>\n",
              "      <td>NaN</td>\n",
              "      <td>2050.000000</td>\n",
              "      <td>500.000000</td>\n",
              "    </tr>\n",
              "  </tbody>\n",
              "</table>\n",
              "</div>"
            ],
            "text/plain": [
              "       Restaurant  ... Minimum_Order_Cleaned\n",
              "count       11094  ...          11094.000000\n",
              "unique       7480  ...                   NaN\n",
              "top       ID_7184  ...                   NaN\n",
              "freq           22  ...                   NaN\n",
              "mean          NaN  ...             53.344511\n",
              "std           NaN  ...             18.551245\n",
              "min           NaN  ...              0.000000\n",
              "25%           NaN  ...             50.000000\n",
              "50%           NaN  ...             50.000000\n",
              "75%           NaN  ...             50.000000\n",
              "max           NaN  ...            500.000000\n",
              "\n",
              "[11 rows x 11 columns]"
            ]
          },
          "metadata": {
            "tags": []
          },
          "execution_count": 35
        }
      ]
    },
    {
      "cell_type": "code",
      "metadata": {
        "colab_type": "code",
        "id": "98JSZquOUuhA",
        "colab": {}
      },
      "source": [
        "#A function to find all the non numeric values\n",
        "def non_numerals(series):\n",
        "  non_numerals = []\n",
        "  for i in series.unique():\n",
        "    try :\n",
        "      i = float(i)\n",
        "    except:\n",
        "      non_numerals.append(i)\n",
        "  return non_numerals"
      ],
      "execution_count": 0,
      "outputs": []
    },
    {
      "cell_type": "code",
      "metadata": {
        "colab_type": "code",
        "id": "Xd-2qqH7dPcD",
        "colab": {}
      },
      "source": [
        "# A function to replace the non-numeric values\n",
        "def replace_nn_with(series, type_, fill_with = None, method = 'mean'):\n",
        "\n",
        "  nn = non_numerals(series)\n",
        "  print('-'*30)\n",
        "  print('-'*30)\n",
        "  print(\"Non Numerals in column \",series.name,\" : \",nn)\n",
        "\n",
        "  series = series.replace(nn, np.nan, inplace = False)\n",
        "  nulls = series.isnull().sum()\n",
        "  if fill_with:\n",
        "    series.fillna(fill_with, inplace = True)\n",
        "    print(\"Filling Non Numerals with {}\".format(fill_with))\n",
        "  \n",
        "  else:\n",
        "    series = series.replace(nn, np.nan, inplace = False)\n",
        "\n",
        "    if method == 'mean' :\n",
        "      rep = series.astype(float).mean()\n",
        "      print(\"Filling Non Numerals with MEAN = \", rep)\n",
        "\n",
        "    elif method == 'median' :\n",
        "      rep = series.astype(float).median()\n",
        "      print(\"Filling Non Numerals with MEDIAN = \", rep)\n",
        "\n",
        "    elif method == 'min' :\n",
        "      rep = series.astype(float).min()\n",
        "      print(\"Filling Non Numerals with MINIMUM = \", rep)\n",
        "\n",
        "    else:\n",
        "      print('Please pass a valid method as a string -- (\"mean\" or \"median\" or \"min\")')\n",
        "      return 0\n",
        "\n",
        "    series.fillna(rep, inplace = True)\n",
        "    \n",
        "  try:\n",
        "    series = series.astype(type_)\n",
        "    print(nulls, \": observations replaced\")\n",
        "    return series\n",
        "  except:\n",
        "    # Since type conversion of a string containting decimals to int is not possible, it is first converted to float\n",
        "    series =  series.astype(float)\n",
        "    print(nulls, \": observations replaced\")\n",
        "    series =  series.astype(type_)\n",
        "    return series\n",
        "    \n"
      ],
      "execution_count": 0,
      "outputs": []
    },
    {
      "cell_type": "code",
      "metadata": {
        "colab_type": "code",
        "id": "UgP5SZBbvH-n",
        "outputId": "4297aa2c-77ff-4661-ab66-b084b113486e",
        "colab": {
          "base_uri": "https://localhost:8080/",
          "height": 467
        }
      },
      "source": [
        "train.head()"
      ],
      "execution_count": 38,
      "outputs": [
        {
          "output_type": "execute_result",
          "data": {
            "text/html": [
              "<div>\n",
              "<style scoped>\n",
              "    .dataframe tbody tr th:only-of-type {\n",
              "        vertical-align: middle;\n",
              "    }\n",
              "\n",
              "    .dataframe tbody tr th {\n",
              "        vertical-align: top;\n",
              "    }\n",
              "\n",
              "    .dataframe thead th {\n",
              "        text-align: right;\n",
              "    }\n",
              "</style>\n",
              "<table border=\"1\" class=\"dataframe\">\n",
              "  <thead>\n",
              "    <tr style=\"text-align: right;\">\n",
              "      <th></th>\n",
              "      <th>Restaurant</th>\n",
              "      <th>Location</th>\n",
              "      <th>Cuisines</th>\n",
              "      <th>Average_Cost</th>\n",
              "      <th>Minimum_Order</th>\n",
              "      <th>Rating</th>\n",
              "      <th>Votes</th>\n",
              "      <th>Reviews</th>\n",
              "      <th>Delivery_Time</th>\n",
              "      <th>Average_Cost_Cleaned</th>\n",
              "      <th>Minimum_Order_Cleaned</th>\n",
              "    </tr>\n",
              "  </thead>\n",
              "  <tbody>\n",
              "    <tr>\n",
              "      <th>0</th>\n",
              "      <td>ID_6321</td>\n",
              "      <td>FTI College, Law College Road, Pune</td>\n",
              "      <td>Fast Food, Rolls, Burger, Salad, Wraps</td>\n",
              "      <td>₹200</td>\n",
              "      <td>₹50</td>\n",
              "      <td>3.5</td>\n",
              "      <td>12</td>\n",
              "      <td>4</td>\n",
              "      <td>30 minutes</td>\n",
              "      <td>200</td>\n",
              "      <td>50</td>\n",
              "    </tr>\n",
              "    <tr>\n",
              "      <th>1</th>\n",
              "      <td>ID_2882</td>\n",
              "      <td>Sector 3, Marathalli</td>\n",
              "      <td>Ice Cream, Desserts</td>\n",
              "      <td>₹100</td>\n",
              "      <td>₹50</td>\n",
              "      <td>3.5</td>\n",
              "      <td>11</td>\n",
              "      <td>4</td>\n",
              "      <td>30 minutes</td>\n",
              "      <td>100</td>\n",
              "      <td>50</td>\n",
              "    </tr>\n",
              "    <tr>\n",
              "      <th>2</th>\n",
              "      <td>ID_1595</td>\n",
              "      <td>Mumbai Central</td>\n",
              "      <td>Italian, Street Food, Fast Food</td>\n",
              "      <td>₹150</td>\n",
              "      <td>₹50</td>\n",
              "      <td>3.6</td>\n",
              "      <td>99</td>\n",
              "      <td>30</td>\n",
              "      <td>65 minutes</td>\n",
              "      <td>150</td>\n",
              "      <td>50</td>\n",
              "    </tr>\n",
              "    <tr>\n",
              "      <th>3</th>\n",
              "      <td>ID_5929</td>\n",
              "      <td>Sector 1, Noida</td>\n",
              "      <td>Mughlai, North Indian, Chinese</td>\n",
              "      <td>₹250</td>\n",
              "      <td>₹99</td>\n",
              "      <td>3.7</td>\n",
              "      <td>176</td>\n",
              "      <td>95</td>\n",
              "      <td>30 minutes</td>\n",
              "      <td>250</td>\n",
              "      <td>99</td>\n",
              "    </tr>\n",
              "    <tr>\n",
              "      <th>4</th>\n",
              "      <td>ID_6123</td>\n",
              "      <td>Rmz Centennial, I Gate, Whitefield</td>\n",
              "      <td>Cafe, Beverages</td>\n",
              "      <td>₹200</td>\n",
              "      <td>₹99</td>\n",
              "      <td>3.2</td>\n",
              "      <td>521</td>\n",
              "      <td>235</td>\n",
              "      <td>65 minutes</td>\n",
              "      <td>200</td>\n",
              "      <td>99</td>\n",
              "    </tr>\n",
              "  </tbody>\n",
              "</table>\n",
              "</div>"
            ],
            "text/plain": [
              "  Restaurant  ... Minimum_Order_Cleaned\n",
              "0    ID_6321  ...                    50\n",
              "1    ID_2882  ...                    50\n",
              "2    ID_1595  ...                    50\n",
              "3    ID_5929  ...                    99\n",
              "4    ID_6123  ...                    99\n",
              "\n",
              "[5 rows x 11 columns]"
            ]
          },
          "metadata": {
            "tags": []
          },
          "execution_count": 38
        }
      ]
    },
    {
      "cell_type": "markdown",
      "metadata": {
        "colab_type": "text",
        "id": "D2UGyd1YXR_w"
      },
      "source": [
        "Lets Clean the columns"
      ]
    },
    {
      "cell_type": "code",
      "metadata": {
        "colab_type": "code",
        "id": "N0hBJrrPcnAN",
        "outputId": "59adac76-6541-4264-a518-151dd22350ee",
        "colab": {
          "base_uri": "https://localhost:8080/",
          "height": 105
        }
      },
      "source": [
        "train['Rating_Cleaned'] = replace_nn_with(train['Rating'],float, method = 'mean')"
      ],
      "execution_count": 39,
      "outputs": [
        {
          "output_type": "stream",
          "text": [
            "------------------------------\n",
            "------------------------------\n",
            "Non Numerals in column  Rating  :  ['-', 'NEW', 'Opening Soon', 'Temporarily Closed']\n",
            "Filling Non Numerals with MEAN =  3.6134596429744668\n",
            "1963 : observations replaced\n"
          ],
          "name": "stdout"
        }
      ]
    },
    {
      "cell_type": "code",
      "metadata": {
        "colab_type": "code",
        "id": "mDNBE-N3yZFq",
        "outputId": "4ad058e4-30de-44f3-992a-7ffee7284ae9",
        "colab": {
          "base_uri": "https://localhost:8080/",
          "height": 105
        }
      },
      "source": [
        "test['Rating_Cleaned'] = replace_nn_with(test['Rating'],float, fill_with = 3.6134596429744668)"
      ],
      "execution_count": 40,
      "outputs": [
        {
          "output_type": "stream",
          "text": [
            "------------------------------\n",
            "------------------------------\n",
            "Non Numerals in column  Rating  :  ['NEW', '-', 'Opening Soon']\n",
            "Filling Non Numerals with 3.6134596429744668\n",
            "507 : observations replaced\n"
          ],
          "name": "stdout"
        }
      ]
    },
    {
      "cell_type": "code",
      "metadata": {
        "colab_type": "code",
        "id": "SrSqjkJ9cm46",
        "outputId": "04aa23c4-3fc3-4745-dcb4-b3fc18465b1f",
        "colab": {
          "base_uri": "https://localhost:8080/",
          "height": 105
        }
      },
      "source": [
        "train['Votes_Cleaned'] = replace_nn_with(train['Votes'],int,method =  'mean')\n"
      ],
      "execution_count": 41,
      "outputs": [
        {
          "output_type": "stream",
          "text": [
            "------------------------------\n",
            "------------------------------\n",
            "Non Numerals in column  Votes  :  ['-']\n",
            "Filling Non Numerals with MEAN =  244.54445676274943\n",
            "2074 : observations replaced\n"
          ],
          "name": "stdout"
        }
      ]
    },
    {
      "cell_type": "code",
      "metadata": {
        "colab_type": "code",
        "id": "NK45gKPj4m9L",
        "outputId": "464ee934-3436-4cff-fd38-08acc28daabc",
        "colab": {
          "base_uri": "https://localhost:8080/",
          "height": 105
        }
      },
      "source": [
        "test['Votes_Cleaned'] = replace_nn_with(test['Votes'],int,fill_with = 244.54445676274943)"
      ],
      "execution_count": 42,
      "outputs": [
        {
          "output_type": "stream",
          "text": [
            "------------------------------\n",
            "------------------------------\n",
            "Non Numerals in column  Votes  :  ['-']\n",
            "Filling Non Numerals with 244.54445676274943\n",
            "542 : observations replaced\n"
          ],
          "name": "stdout"
        }
      ]
    },
    {
      "cell_type": "code",
      "metadata": {
        "colab_type": "code",
        "id": "D3ZTqnwIzmHa",
        "outputId": "b1a7f628-f11b-4693-a40f-68e9e6ce4a00",
        "colab": {
          "base_uri": "https://localhost:8080/",
          "height": 105
        }
      },
      "source": [
        "train['Reviews_Cleaned'] = replace_nn_with(train['Reviews'],int, method =  'mean')"
      ],
      "execution_count": 43,
      "outputs": [
        {
          "output_type": "stream",
          "text": [
            "------------------------------\n",
            "------------------------------\n",
            "Non Numerals in column  Reviews  :  ['-']\n",
            "Filling Non Numerals with MEAN =  123.24789341835573\n",
            "2312 : observations replaced\n"
          ],
          "name": "stdout"
        }
      ]
    },
    {
      "cell_type": "code",
      "metadata": {
        "colab_type": "code",
        "id": "iEMVlV2R4vcW",
        "outputId": "79278b85-6058-4ad3-9658-8312322b3795",
        "colab": {
          "base_uri": "https://localhost:8080/",
          "height": 105
        }
      },
      "source": [
        "test['Reviews_Cleaned'] = replace_nn_with(test['Reviews'],int, method =  'mean',fill_with = 123.247893 )"
      ],
      "execution_count": 44,
      "outputs": [
        {
          "output_type": "stream",
          "text": [
            "------------------------------\n",
            "------------------------------\n",
            "Non Numerals in column  Reviews  :  ['-']\n",
            "Filling Non Numerals with 123.247893\n",
            "593 : observations replaced\n"
          ],
          "name": "stdout"
        }
      ]
    },
    {
      "cell_type": "code",
      "metadata": {
        "colab_type": "code",
        "id": "kXVltCBZwXly",
        "outputId": "307b43b7-7a72-414c-a147-43a390a883a6",
        "colab": {
          "base_uri": "https://localhost:8080/",
          "height": 467
        }
      },
      "source": [
        "train.head(5)"
      ],
      "execution_count": 45,
      "outputs": [
        {
          "output_type": "execute_result",
          "data": {
            "text/html": [
              "<div>\n",
              "<style scoped>\n",
              "    .dataframe tbody tr th:only-of-type {\n",
              "        vertical-align: middle;\n",
              "    }\n",
              "\n",
              "    .dataframe tbody tr th {\n",
              "        vertical-align: top;\n",
              "    }\n",
              "\n",
              "    .dataframe thead th {\n",
              "        text-align: right;\n",
              "    }\n",
              "</style>\n",
              "<table border=\"1\" class=\"dataframe\">\n",
              "  <thead>\n",
              "    <tr style=\"text-align: right;\">\n",
              "      <th></th>\n",
              "      <th>Restaurant</th>\n",
              "      <th>Location</th>\n",
              "      <th>Cuisines</th>\n",
              "      <th>Average_Cost</th>\n",
              "      <th>Minimum_Order</th>\n",
              "      <th>Rating</th>\n",
              "      <th>Votes</th>\n",
              "      <th>Reviews</th>\n",
              "      <th>Delivery_Time</th>\n",
              "      <th>Average_Cost_Cleaned</th>\n",
              "      <th>Minimum_Order_Cleaned</th>\n",
              "      <th>Rating_Cleaned</th>\n",
              "      <th>Votes_Cleaned</th>\n",
              "      <th>Reviews_Cleaned</th>\n",
              "    </tr>\n",
              "  </thead>\n",
              "  <tbody>\n",
              "    <tr>\n",
              "      <th>0</th>\n",
              "      <td>ID_6321</td>\n",
              "      <td>FTI College, Law College Road, Pune</td>\n",
              "      <td>Fast Food, Rolls, Burger, Salad, Wraps</td>\n",
              "      <td>₹200</td>\n",
              "      <td>₹50</td>\n",
              "      <td>3.5</td>\n",
              "      <td>12</td>\n",
              "      <td>4</td>\n",
              "      <td>30 minutes</td>\n",
              "      <td>200</td>\n",
              "      <td>50</td>\n",
              "      <td>3.5</td>\n",
              "      <td>12</td>\n",
              "      <td>4</td>\n",
              "    </tr>\n",
              "    <tr>\n",
              "      <th>1</th>\n",
              "      <td>ID_2882</td>\n",
              "      <td>Sector 3, Marathalli</td>\n",
              "      <td>Ice Cream, Desserts</td>\n",
              "      <td>₹100</td>\n",
              "      <td>₹50</td>\n",
              "      <td>3.5</td>\n",
              "      <td>11</td>\n",
              "      <td>4</td>\n",
              "      <td>30 minutes</td>\n",
              "      <td>100</td>\n",
              "      <td>50</td>\n",
              "      <td>3.5</td>\n",
              "      <td>11</td>\n",
              "      <td>4</td>\n",
              "    </tr>\n",
              "    <tr>\n",
              "      <th>2</th>\n",
              "      <td>ID_1595</td>\n",
              "      <td>Mumbai Central</td>\n",
              "      <td>Italian, Street Food, Fast Food</td>\n",
              "      <td>₹150</td>\n",
              "      <td>₹50</td>\n",
              "      <td>3.6</td>\n",
              "      <td>99</td>\n",
              "      <td>30</td>\n",
              "      <td>65 minutes</td>\n",
              "      <td>150</td>\n",
              "      <td>50</td>\n",
              "      <td>3.6</td>\n",
              "      <td>99</td>\n",
              "      <td>30</td>\n",
              "    </tr>\n",
              "    <tr>\n",
              "      <th>3</th>\n",
              "      <td>ID_5929</td>\n",
              "      <td>Sector 1, Noida</td>\n",
              "      <td>Mughlai, North Indian, Chinese</td>\n",
              "      <td>₹250</td>\n",
              "      <td>₹99</td>\n",
              "      <td>3.7</td>\n",
              "      <td>176</td>\n",
              "      <td>95</td>\n",
              "      <td>30 minutes</td>\n",
              "      <td>250</td>\n",
              "      <td>99</td>\n",
              "      <td>3.7</td>\n",
              "      <td>176</td>\n",
              "      <td>95</td>\n",
              "    </tr>\n",
              "    <tr>\n",
              "      <th>4</th>\n",
              "      <td>ID_6123</td>\n",
              "      <td>Rmz Centennial, I Gate, Whitefield</td>\n",
              "      <td>Cafe, Beverages</td>\n",
              "      <td>₹200</td>\n",
              "      <td>₹99</td>\n",
              "      <td>3.2</td>\n",
              "      <td>521</td>\n",
              "      <td>235</td>\n",
              "      <td>65 minutes</td>\n",
              "      <td>200</td>\n",
              "      <td>99</td>\n",
              "      <td>3.2</td>\n",
              "      <td>521</td>\n",
              "      <td>235</td>\n",
              "    </tr>\n",
              "  </tbody>\n",
              "</table>\n",
              "</div>"
            ],
            "text/plain": [
              "  Restaurant  ... Reviews_Cleaned\n",
              "0    ID_6321  ...               4\n",
              "1    ID_2882  ...               4\n",
              "2    ID_1595  ...              30\n",
              "3    ID_5929  ...              95\n",
              "4    ID_6123  ...             235\n",
              "\n",
              "[5 rows x 14 columns]"
            ]
          },
          "metadata": {
            "tags": []
          },
          "execution_count": 45
        }
      ]
    },
    {
      "cell_type": "code",
      "metadata": {
        "colab_type": "code",
        "id": "fbQIqpjpAZxP",
        "outputId": "41fa50ce-8faa-431f-9b3c-c56a37bea558",
        "colab": {
          "base_uri": "https://localhost:8080/",
          "height": 105
        }
      },
      "source": [
        "train.columns"
      ],
      "execution_count": 46,
      "outputs": [
        {
          "output_type": "execute_result",
          "data": {
            "text/plain": [
              "Index(['Restaurant', 'Location', 'Cuisines', 'Average_Cost', 'Minimum_Order',\n",
              "       'Rating', 'Votes', 'Reviews', 'Delivery_Time', 'Average_Cost_Cleaned',\n",
              "       'Minimum_Order_Cleaned', 'Rating_Cleaned', 'Votes_Cleaned',\n",
              "       'Reviews_Cleaned'],\n",
              "      dtype='object')"
            ]
          },
          "metadata": {
            "tags": []
          },
          "execution_count": 46
        }
      ]
    },
    {
      "cell_type": "markdown",
      "metadata": {
        "colab_type": "text",
        "id": "WZvTDcx3Xgtc"
      },
      "source": [
        "We are done with the cleaning part and now we will select only the columns we need for further stages. "
      ]
    },
    {
      "cell_type": "code",
      "metadata": {
        "colab_type": "code",
        "id": "3r-RUSjAAIgL",
        "colab": {}
      },
      "source": [
        "cols = ['Restaurant',  'Average_Cost_Cleaned',\n",
        "       'Minimum_Order_Cleaned', 'Rating_Cleaned', 'Votes_Cleaned',\n",
        "       'Reviews_Cleaned','Delivery_Time' ]"
      ],
      "execution_count": 0,
      "outputs": []
    },
    {
      "cell_type": "code",
      "metadata": {
        "colab_type": "code",
        "id": "zdLJ2jsUAoCb",
        "colab": {}
      },
      "source": [
        "train_sample = train[cols]\n",
        "test_sample = test[cols[:-1]]"
      ],
      "execution_count": 0,
      "outputs": []
    },
    {
      "cell_type": "markdown",
      "metadata": {
        "colab_type": "text",
        "id": "rRbkFzexX00x"
      },
      "source": [
        "We will now merge all the cleaned features to form a perfect dataframe"
      ]
    },
    {
      "cell_type": "code",
      "metadata": {
        "colab_type": "code",
        "id": "2bYpHnkkBEOt",
        "colab": {}
      },
      "source": [
        "train_sample = pd.concat([pd.DataFrame(train_Location_splits), pd.DataFrame(train_Cuisines_splits),train_sample],sort=False,axis = 1)\n",
        "test_sample = pd.concat([pd.DataFrame(test_Location_splits), pd.DataFrame(test_Cuisines_splits), test_sample],sort=False,axis = 1)"
      ],
      "execution_count": 0,
      "outputs": []
    },
    {
      "cell_type": "code",
      "metadata": {
        "colab_type": "code",
        "id": "eBQh4JoFCEY-",
        "outputId": "0d0acebb-f037-4145-a075-256b446e962a",
        "colab": {
          "base_uri": "https://localhost:8080/",
          "height": 945
        }
      },
      "source": [
        "#lets take a look at the relation between the numeric features in the dataset\n",
        "import seaborn\n",
        "seaborn.pairplot(train_sample)"
      ],
      "execution_count": 50,
      "outputs": [
        {
          "output_type": "execute_result",
          "data": {
            "text/plain": [
              "<seaborn.axisgrid.PairGrid at 0x7fc4cf1610b8>"
            ]
          },
          "metadata": {
            "tags": []
          },
          "execution_count": 50
        },
        {
          "output_type": "display_data",
          "data": {
            "image/png": "[encoded data removed]",
            "text/plain": [
              "<Figure size 900x900 with 30 Axes>"
            ]
          },
          "metadata": {
            "tags": []
          }
        }
      ]
    },
    {
      "cell_type": "code",
      "metadata": {
        "colab_type": "code",
        "id": "RmXx7yZTGUs9",
        "outputId": "3f4a96c3-4330-4fba-af9d-a22fb482534e",
        "colab": {
          "base_uri": "https://localhost:8080/",
          "height": 945
        }
      },
      "source": [
        "seaborn.pairplot(test_sample)"
      ],
      "execution_count": 51,
      "outputs": [
        {
          "output_type": "execute_result",
          "data": {
            "text/plain": [
              "<seaborn.axisgrid.PairGrid at 0x7fc4c1f19240>"
            ]
          },
          "metadata": {
            "tags": []
          },
          "execution_count": 51
        },
        {
          "output_type": "display_data",
          "data": {
            "image/png": "[encoded data removed]",
            "text/plain": [
              "<Figure size 900x900 with 30 Axes>"
            ]
          },
          "metadata": {
            "tags": []
          }
        }
      ]
    },
    {
      "cell_type": "markdown",
      "metadata": {
        "colab_type": "text",
        "id": "u1kumctM5Jf5"
      },
      "source": [
        "##Data Preprocessing"
      ]
    },
    {
      "cell_type": "markdown",
      "metadata": {
        "colab_type": "text",
        "id": "1bxiaN83YEcA"
      },
      "source": [
        "After cleaning, there are still some Data-Preparation tasks left. We still have some missing values that we allotted during the feature generation.\n",
        "\n",
        "In the Preprocessing stage we will perform the following :\n",
        "\n",
        "* Dealing with Nulls/empty cells\n",
        "* Encoding Categorical variables\n",
        "* Scaling the features"
      ]
    },
    {
      "cell_type": "markdown",
      "metadata": {
        "colab_type": "text",
        "id": "SCbszxL0-NPg"
      },
      "source": [
        "### Removing Nulls"
      ]
    },
    {
      "cell_type": "code",
      "metadata": {
        "colab_type": "code",
        "id": "MkXVhYBP2EL4",
        "outputId": "8502bb52-cee0-48c7-cfe6-3c5bbc342f46",
        "colab": {
          "base_uri": "https://localhost:8080/",
          "height": 369
        }
      },
      "source": [
        "train_sample.isnull().sum()"
      ],
      "execution_count": 52,
      "outputs": [
        {
          "output_type": "execute_result",
          "data": {
            "text/plain": [
              "Location_Feature_1           0\n",
              "Location_Feature_2        1942\n",
              "Location_Feature_3        6364\n",
              "Location_Feature_4       10068\n",
              "Cuisines_Feature_1           0\n",
              "Cuisines_Feature_2        3012\n",
              "Cuisines_Feature_3        6931\n",
              "Cuisines_Feature_4        9393\n",
              "Cuisines_Feature_5       10449\n",
              "Cuisines_Feature_6       10854\n",
              "Cuisines_Feature_7       10978\n",
              "Cuisines_Feature_8       11046\n",
              "Restaurant                   0\n",
              "Average_Cost_Cleaned         0\n",
              "Minimum_Order_Cleaned        0\n",
              "Rating_Cleaned               0\n",
              "Votes_Cleaned                0\n",
              "Reviews_Cleaned              0\n",
              "Delivery_Time                0\n",
              "dtype: int64"
            ]
          },
          "metadata": {
            "tags": []
          },
          "execution_count": 52
        }
      ]
    },
    {
      "cell_type": "markdown",
      "metadata": {
        "colab_type": "text",
        "id": "xVejY3poZKSx"
      },
      "source": [
        "Since the nulls are present only in the categorical features, in this approach, to make it simple I will just replace all the NaNs with a string 'NAN' and will use it as a added category or class."
      ]
    },
    {
      "cell_type": "code",
      "metadata": {
        "colab_type": "code",
        "id": "iQUda-wk2VvR",
        "colab": {}
      },
      "source": [
        "train_sample.fillna('NAN', inplace = True)"
      ],
      "execution_count": 0,
      "outputs": []
    },
    {
      "cell_type": "code",
      "metadata": {
        "colab_type": "code",
        "id": "i11idxAi2gI0",
        "outputId": "8b621127-4f8d-404e-d98f-efbaeca2669a",
        "colab": {
          "base_uri": "https://localhost:8080/",
          "height": 369
        }
      },
      "source": [
        "train_sample.isnull().sum()"
      ],
      "execution_count": 54,
      "outputs": [
        {
          "output_type": "execute_result",
          "data": {
            "text/plain": [
              "Location_Feature_1       0\n",
              "Location_Feature_2       0\n",
              "Location_Feature_3       0\n",
              "Location_Feature_4       0\n",
              "Cuisines_Feature_1       0\n",
              "Cuisines_Feature_2       0\n",
              "Cuisines_Feature_3       0\n",
              "Cuisines_Feature_4       0\n",
              "Cuisines_Feature_5       0\n",
              "Cuisines_Feature_6       0\n",
              "Cuisines_Feature_7       0\n",
              "Cuisines_Feature_8       0\n",
              "Restaurant               0\n",
              "Average_Cost_Cleaned     0\n",
              "Minimum_Order_Cleaned    0\n",
              "Rating_Cleaned           0\n",
              "Votes_Cleaned            0\n",
              "Reviews_Cleaned          0\n",
              "Delivery_Time            0\n",
              "dtype: int64"
            ]
          },
          "metadata": {
            "tags": []
          },
          "execution_count": 54
        }
      ]
    },
    {
      "cell_type": "code",
      "metadata": {
        "colab_type": "code",
        "id": "b3UkAuNO2ntr",
        "outputId": "b6e08b1b-54b2-4be1-9066-cf0a2867ced9",
        "colab": {
          "base_uri": "https://localhost:8080/",
          "height": 369
        }
      },
      "source": [
        "train_sample.isnull().sum()"
      ],
      "execution_count": 55,
      "outputs": [
        {
          "output_type": "execute_result",
          "data": {
            "text/plain": [
              "Location_Feature_1       0\n",
              "Location_Feature_2       0\n",
              "Location_Feature_3       0\n",
              "Location_Feature_4       0\n",
              "Cuisines_Feature_1       0\n",
              "Cuisines_Feature_2       0\n",
              "Cuisines_Feature_3       0\n",
              "Cuisines_Feature_4       0\n",
              "Cuisines_Feature_5       0\n",
              "Cuisines_Feature_6       0\n",
              "Cuisines_Feature_7       0\n",
              "Cuisines_Feature_8       0\n",
              "Restaurant               0\n",
              "Average_Cost_Cleaned     0\n",
              "Minimum_Order_Cleaned    0\n",
              "Rating_Cleaned           0\n",
              "Votes_Cleaned            0\n",
              "Reviews_Cleaned          0\n",
              "Delivery_Time            0\n",
              "dtype: int64"
            ]
          },
          "metadata": {
            "tags": []
          },
          "execution_count": 55
        }
      ]
    },
    {
      "cell_type": "code",
      "metadata": {
        "colab_type": "code",
        "id": "7ePhAXn12iBg",
        "colab": {}
      },
      "source": [
        "test_sample.fillna('NAN', inplace = True)"
      ],
      "execution_count": 0,
      "outputs": []
    },
    {
      "cell_type": "code",
      "metadata": {
        "colab_type": "code",
        "id": "ddDN2nVH2h_S",
        "outputId": "58f41966-1f73-4e2f-9f26-821aabbe30cf",
        "colab": {
          "base_uri": "https://localhost:8080/",
          "height": 369
        }
      },
      "source": [
        "train_sample.isnull().sum()"
      ],
      "execution_count": 57,
      "outputs": [
        {
          "output_type": "execute_result",
          "data": {
            "text/plain": [
              "Location_Feature_1       0\n",
              "Location_Feature_2       0\n",
              "Location_Feature_3       0\n",
              "Location_Feature_4       0\n",
              "Cuisines_Feature_1       0\n",
              "Cuisines_Feature_2       0\n",
              "Cuisines_Feature_3       0\n",
              "Cuisines_Feature_4       0\n",
              "Cuisines_Feature_5       0\n",
              "Cuisines_Feature_6       0\n",
              "Cuisines_Feature_7       0\n",
              "Cuisines_Feature_8       0\n",
              "Restaurant               0\n",
              "Average_Cost_Cleaned     0\n",
              "Minimum_Order_Cleaned    0\n",
              "Rating_Cleaned           0\n",
              "Votes_Cleaned            0\n",
              "Reviews_Cleaned          0\n",
              "Delivery_Time            0\n",
              "dtype: int64"
            ]
          },
          "metadata": {
            "tags": []
          },
          "execution_count": 57
        }
      ]
    },
    {
      "cell_type": "markdown",
      "metadata": {
        "colab_type": "text",
        "id": "wRVErMt0HBFp"
      },
      "source": [
        "### Encoding Categories"
      ]
    },
    {
      "cell_type": "markdown",
      "metadata": {
        "colab_type": "text",
        "id": "qkuN0nZ8ZcMo"
      },
      "source": [
        "\n",
        "\n",
        "---\n",
        "\n",
        "Here we will use a simple Label Encoder to transform all the strings or categories."
      ]
    },
    {
      "cell_type": "markdown",
      "metadata": {
        "colab_type": "text",
        "id": "tQXtDXaONwjx"
      },
      "source": [
        "####Locations & Cuisines"
      ]
    },
    {
      "cell_type": "markdown",
      "metadata": {
        "colab_type": "text",
        "id": "PWKUUgjRZ3oO"
      },
      "source": [
        "We will first find the unique values or categories in each of the categorical features and fit the label encoder with the unique values. The encoder eill assign an integer code to each of the categories which can be used to tranform the entire categorical feature column."
      ]
    },
    {
      "cell_type": "code",
      "metadata": {
        "colab_type": "code",
        "id": "3C5FxHrpJyy1",
        "colab": {}
      },
      "source": [
        "temp1 = []\n",
        "for i in train_Cuisines_splits.keys():\n",
        "  for j in train_Cuisines_splits.get(i):\n",
        "    temp1.append(j)\n",
        "\n",
        "temp2 = []\n",
        "for i in test_Cuisines_splits.keys():\n",
        "  for j in test_Cuisines_splits.get(i):\n",
        "    temp2.append(j)\n",
        "\n",
        "temp1.extend(temp2)\n",
        "\n",
        "unique_cuisines = list(pd.Series(temp1).unique())\n",
        "unique_cuisines.append('NAN')"
      ],
      "execution_count": 0,
      "outputs": []
    },
    {
      "cell_type": "markdown",
      "metadata": {
        "colab_type": "text",
        "id": "-TwuUkxbafu2"
      },
      "source": [
        "**Note:**\n",
        "We are also adding an extra category called NAN that we used to replace the NaN values."
      ]
    },
    {
      "cell_type": "code",
      "metadata": {
        "colab_type": "code",
        "id": "zVFV3HlYcnB8",
        "outputId": "ae6dd596-333f-4d81-bcdc-1276ab53a1df",
        "colab": {
          "base_uri": "https://localhost:8080/",
          "height": 34
        }
      },
      "source": [
        "len(unique_cuisines)"
      ],
      "execution_count": 59,
      "outputs": [
        {
          "output_type": "execute_result",
          "data": {
            "text/plain": [
              "103"
            ]
          },
          "metadata": {
            "tags": []
          },
          "execution_count": 59
        }
      ]
    },
    {
      "cell_type": "markdown",
      "metadata": {
        "colab_type": "text",
        "id": "sXmPQgxIayR2"
      },
      "source": [
        "The location is a tricky feature. You can use external data to fill the missing data. For example, if the city is missing you can use the street name and try to find the City for the missing fields.\n",
        "\n",
        "For simplicity, here I have followed the same approach as I did for Cuisines which is not a perfect solution."
      ]
    },
    {
      "cell_type": "code",
      "metadata": {
        "colab_type": "code",
        "id": "PFdxEMFYapOg",
        "colab": {}
      },
      "source": [
        "temp1 = []\n",
        "for i in train_Location_splits.keys():\n",
        "  for j in train_Location_splits.get(i):\n",
        "    temp1.append(j)\n",
        "\n",
        "temp2 = []\n",
        "for i in test_Location_splits.keys():\n",
        "  for j in test_Location_splits.get(i):\n",
        "    temp2.append(j)\n",
        "\n",
        "temp1.extend(temp2)\n",
        "\n",
        "unique_locations = list(pd.Series(temp1).unique())\n",
        "unique_locations.append('NAN')"
      ],
      "execution_count": 0,
      "outputs": []
    },
    {
      "cell_type": "code",
      "metadata": {
        "colab_type": "code",
        "id": "NgYB9IGpao_8",
        "outputId": "7e110ca1-f9ce-418f-aa70-129f1fc43a73",
        "colab": {
          "base_uri": "https://localhost:8080/",
          "height": 34
        }
      },
      "source": [
        "len(unique_locations)"
      ],
      "execution_count": 61,
      "outputs": [
        {
          "output_type": "execute_result",
          "data": {
            "text/plain": [
              "67"
            ]
          },
          "metadata": {
            "tags": []
          },
          "execution_count": 61
        }
      ]
    },
    {
      "cell_type": "code",
      "metadata": {
        "colab_type": "code",
        "id": "y4VLRR_SXPeM",
        "colab": {}
      },
      "source": [
        "#encoding the categorical Features\n",
        "from sklearn.preprocessing import LabelEncoder\n",
        "le_c = LabelEncoder().fit(unique_cuisines)\n",
        "le_l = LabelEncoder().fit(unique_locations)"
      ],
      "execution_count": 0,
      "outputs": []
    },
    {
      "cell_type": "code",
      "metadata": {
        "colab_type": "code",
        "id": "LRZw0YSE3dYe",
        "colab": {}
      },
      "source": [
        "for i in train_Location_splits.keys():\n",
        "  train_sample[i] = le_l.transform(train_sample[i])"
      ],
      "execution_count": 0,
      "outputs": []
    },
    {
      "cell_type": "code",
      "metadata": {
        "colab_type": "code",
        "id": "4U5u_YD63dVs",
        "colab": {}
      },
      "source": [
        "\n",
        "for i in train_Cuisines_splits.keys():\n",
        "  train_sample[i] = le_c.transform(train_sample[i])"
      ],
      "execution_count": 0,
      "outputs": []
    },
    {
      "cell_type": "code",
      "metadata": {
        "colab_type": "code",
        "id": "Fj2Jj6BW3fuL",
        "colab": {}
      },
      "source": [
        "for i in train_Location_splits.keys():\n",
        "  test_sample[i] = le_l.transform(test_sample[i])"
      ],
      "execution_count": 0,
      "outputs": []
    },
    {
      "cell_type": "code",
      "metadata": {
        "colab_type": "code",
        "id": "o1syc4_-3fsG",
        "colab": {}
      },
      "source": [
        "for i in test_Cuisines_splits.keys():\n",
        "  test_sample[i] = le_c.transform(test_sample[i])"
      ],
      "execution_count": 0,
      "outputs": []
    },
    {
      "cell_type": "markdown",
      "metadata": {
        "colab_type": "text",
        "id": "1R2AgdQg5OKR"
      },
      "source": [
        "####Restaurant IDs"
      ]
    },
    {
      "cell_type": "markdown",
      "metadata": {
        "colab_type": "text",
        "id": "DAY-qFUkbvOn"
      },
      "source": [
        "We will follow a similar approach for encoding the Restaurant IDs"
      ]
    },
    {
      "cell_type": "code",
      "metadata": {
        "colab_type": "code",
        "id": "Gjy67q7m4yyI",
        "colab": {}
      },
      "source": [
        "t1 = list(train_sample['Restaurant'])\n",
        "t2 = list(test_sample['Restaurant'])\n",
        "\n",
        "t1.extend(t2)\n",
        "unique_ids = list(set(t1))"
      ],
      "execution_count": 0,
      "outputs": []
    },
    {
      "cell_type": "code",
      "metadata": {
        "colab_type": "code",
        "id": "rMEP1sK351oP",
        "outputId": "28392015-2ec5-475f-f0af-0f40262ca4d9",
        "colab": {
          "base_uri": "https://localhost:8080/",
          "height": 34
        }
      },
      "source": [
        "len(unique_ids)"
      ],
      "execution_count": 68,
      "outputs": [
        {
          "output_type": "execute_result",
          "data": {
            "text/plain": [
              "8661"
            ]
          },
          "metadata": {
            "tags": []
          },
          "execution_count": 68
        }
      ]
    },
    {
      "cell_type": "code",
      "metadata": {
        "colab_type": "code",
        "id": "MPZ8Vu2q3foQ",
        "colab": {}
      },
      "source": [
        "le_id = LabelEncoder().fit(unique_ids)"
      ],
      "execution_count": 0,
      "outputs": []
    },
    {
      "cell_type": "code",
      "metadata": {
        "colab_type": "code",
        "id": "OkIo4_xX3fmb",
        "colab": {}
      },
      "source": [
        "train_sample['Restaurant'] = le_id.transform(train_sample['Restaurant'])\n",
        "test_sample['Restaurant'] = le_id.transform(test_sample['Restaurant'])"
      ],
      "execution_count": 0,
      "outputs": []
    },
    {
      "cell_type": "markdown",
      "metadata": {
        "colab_type": "text",
        "id": "FIGYqSTs6siA"
      },
      "source": [
        "### Scaling"
      ]
    },
    {
      "cell_type": "markdown",
      "metadata": {
        "colab_type": "text",
        "id": "RLNrIonDb77p"
      },
      "source": [
        "We will now normalize the data using the StandardScaler"
      ]
    },
    {
      "cell_type": "code",
      "metadata": {
        "colab_type": "code",
        "id": "BapushLu67t_",
        "colab": {}
      },
      "source": [
        "cols = list(train_sample.columns)"
      ],
      "execution_count": 0,
      "outputs": []
    },
    {
      "cell_type": "code",
      "metadata": {
        "colab_type": "code",
        "id": "iN9VLzktXPZV",
        "colab": {}
      },
      "source": [
        "from sklearn.preprocessing import StandardScaler\n",
        "ss = StandardScaler()"
      ],
      "execution_count": 0,
      "outputs": []
    },
    {
      "cell_type": "code",
      "metadata": {
        "colab_type": "code",
        "id": "FnZPES32XPQX",
        "colab": {}
      },
      "source": [
        "train_sample[cols[:-1]] = ss.fit_transform(train_sample[cols[:-1]])"
      ],
      "execution_count": 0,
      "outputs": []
    },
    {
      "cell_type": "code",
      "metadata": {
        "colab_type": "code",
        "id": "usUErPxy7arJ",
        "colab": {}
      },
      "source": [
        "test_sample[cols[:-1]] = ss.fit_transform(test_sample[cols[:-1]])"
      ],
      "execution_count": 0,
      "outputs": []
    },
    {
      "cell_type": "code",
      "metadata": {
        "colab_type": "code",
        "id": "SeC25GVmgItl",
        "outputId": "6cf87202-6da3-44f5-9a11-ccde6c736b44",
        "colab": {
          "base_uri": "https://localhost:8080/",
          "height": 215
        }
      },
      "source": [
        "train_sample.head()"
      ],
      "execution_count": 75,
      "outputs": [
        {
          "output_type": "execute_result",
          "data": {
            "text/html": [
              "<div>\n",
              "<style scoped>\n",
              "    .dataframe tbody tr th:only-of-type {\n",
              "        vertical-align: middle;\n",
              "    }\n",
              "\n",
              "    .dataframe tbody tr th {\n",
              "        vertical-align: top;\n",
              "    }\n",
              "\n",
              "    .dataframe thead th {\n",
              "        text-align: right;\n",
              "    }\n",
              "</style>\n",
              "<table border=\"1\" class=\"dataframe\">\n",
              "  <thead>\n",
              "    <tr style=\"text-align: right;\">\n",
              "      <th></th>\n",
              "      <th>Location_Feature_1</th>\n",
              "      <th>Location_Feature_2</th>\n",
              "      <th>Location_Feature_3</th>\n",
              "      <th>Location_Feature_4</th>\n",
              "      <th>Cuisines_Feature_1</th>\n",
              "      <th>Cuisines_Feature_2</th>\n",
              "      <th>Cuisines_Feature_3</th>\n",
              "      <th>Cuisines_Feature_4</th>\n",
              "      <th>Cuisines_Feature_5</th>\n",
              "      <th>Cuisines_Feature_6</th>\n",
              "      <th>Cuisines_Feature_7</th>\n",
              "      <th>Cuisines_Feature_8</th>\n",
              "      <th>Restaurant</th>\n",
              "      <th>Average_Cost_Cleaned</th>\n",
              "      <th>Minimum_Order_Cleaned</th>\n",
              "      <th>Rating_Cleaned</th>\n",
              "      <th>Votes_Cleaned</th>\n",
              "      <th>Reviews_Cleaned</th>\n",
              "      <th>Delivery_Time</th>\n",
              "    </tr>\n",
              "  </thead>\n",
              "  <tbody>\n",
              "    <tr>\n",
              "      <th>0</th>\n",
              "      <td>-0.867166</td>\n",
              "      <td>-0.408678</td>\n",
              "      <td>1.683093</td>\n",
              "      <td>-0.161374</td>\n",
              "      <td>-0.714599</td>\n",
              "      <td>1.656380</td>\n",
              "      <td>0.137213</td>\n",
              "      <td>3.865914</td>\n",
              "      <td>7.460013</td>\n",
              "      <td>-0.125106</td>\n",
              "      <td>-0.08579</td>\n",
              "      <td>-0.057042</td>\n",
              "      <td>0.625956</td>\n",
              "      <td>-0.020864</td>\n",
              "      <td>-0.180293</td>\n",
              "      <td>-0.301852</td>\n",
              "      <td>-0.464423</td>\n",
              "      <td>-0.417345</td>\n",
              "      <td>30 minutes</td>\n",
              "    </tr>\n",
              "    <tr>\n",
              "      <th>1</th>\n",
              "      <td>1.246323</td>\n",
              "      <td>-0.117669</td>\n",
              "      <td>-0.660441</td>\n",
              "      <td>-0.161374</td>\n",
              "      <td>-0.312564</td>\n",
              "      <td>-0.125757</td>\n",
              "      <td>-0.621557</td>\n",
              "      <td>-0.359765</td>\n",
              "      <td>-0.205249</td>\n",
              "      <td>-0.125106</td>\n",
              "      <td>-0.08579</td>\n",
              "      <td>-0.057042</td>\n",
              "      <td>-0.897145</td>\n",
              "      <td>-0.791117</td>\n",
              "      <td>-0.180293</td>\n",
              "      <td>-0.301852</td>\n",
              "      <td>-0.466421</td>\n",
              "      <td>-0.417345</td>\n",
              "      <td>30 minutes</td>\n",
              "    </tr>\n",
              "    <tr>\n",
              "      <th>2</th>\n",
              "      <td>0.242416</td>\n",
              "      <td>-1.669717</td>\n",
              "      <td>-0.660441</td>\n",
              "      <td>-0.161374</td>\n",
              "      <td>-0.129821</td>\n",
              "      <td>1.953402</td>\n",
              "      <td>0.534663</td>\n",
              "      <td>-0.359765</td>\n",
              "      <td>-0.205249</td>\n",
              "      <td>-0.125106</td>\n",
              "      <td>-0.08579</td>\n",
              "      <td>-0.057042</td>\n",
              "      <td>-1.467013</td>\n",
              "      <td>-0.405990</td>\n",
              "      <td>-0.180293</td>\n",
              "      <td>-0.035808</td>\n",
              "      <td>-0.290596</td>\n",
              "      <td>-0.326311</td>\n",
              "      <td>65 minutes</td>\n",
              "    </tr>\n",
              "    <tr>\n",
              "      <th>3</th>\n",
              "      <td>1.140649</td>\n",
              "      <td>0.415848</td>\n",
              "      <td>-0.660441</td>\n",
              "      <td>-0.161374</td>\n",
              "      <td>0.637700</td>\n",
              "      <td>1.326354</td>\n",
              "      <td>0.354004</td>\n",
              "      <td>-0.359765</td>\n",
              "      <td>-0.205249</td>\n",
              "      <td>-0.125106</td>\n",
              "      <td>-0.08579</td>\n",
              "      <td>-0.057042</td>\n",
              "      <td>0.451808</td>\n",
              "      <td>0.364263</td>\n",
              "      <td>2.461158</td>\n",
              "      <td>0.230235</td>\n",
              "      <td>-0.136749</td>\n",
              "      <td>-0.098724</td>\n",
              "      <td>30 minutes</td>\n",
              "    </tr>\n",
              "    <tr>\n",
              "      <th>4</th>\n",
              "      <td>0.982137</td>\n",
              "      <td>-0.602684</td>\n",
              "      <td>2.580618</td>\n",
              "      <td>-0.161374</td>\n",
              "      <td>-1.043537</td>\n",
              "      <td>-0.620795</td>\n",
              "      <td>-0.621557</td>\n",
              "      <td>-0.359765</td>\n",
              "      <td>-0.205249</td>\n",
              "      <td>-0.125106</td>\n",
              "      <td>-0.08579</td>\n",
              "      <td>-0.057042</td>\n",
              "      <td>0.538284</td>\n",
              "      <td>-0.020864</td>\n",
              "      <td>2.461158</td>\n",
              "      <td>-1.099981</td>\n",
              "      <td>0.552564</td>\n",
              "      <td>0.391462</td>\n",
              "      <td>65 minutes</td>\n",
              "    </tr>\n",
              "  </tbody>\n",
              "</table>\n",
              "</div>"
            ],
            "text/plain": [
              "   Location_Feature_1  Location_Feature_2  ...  Reviews_Cleaned  Delivery_Time\n",
              "0           -0.867166           -0.408678  ...        -0.417345     30 minutes\n",
              "1            1.246323           -0.117669  ...        -0.417345     30 minutes\n",
              "2            0.242416           -1.669717  ...        -0.326311     65 minutes\n",
              "3            1.140649            0.415848  ...        -0.098724     30 minutes\n",
              "4            0.982137           -0.602684  ...         0.391462     65 minutes\n",
              "\n",
              "[5 rows x 19 columns]"
            ]
          },
          "metadata": {
            "tags": []
          },
          "execution_count": 75
        }
      ]
    },
    {
      "cell_type": "code",
      "metadata": {
        "colab_type": "code",
        "id": "mF9OMgtMgKRt",
        "outputId": "e3487516-6633-45f8-f205-c41635fe51c8",
        "colab": {
          "base_uri": "https://localhost:8080/",
          "height": 215
        }
      },
      "source": [
        "test_sample.head()"
      ],
      "execution_count": 76,
      "outputs": [
        {
          "output_type": "execute_result",
          "data": {
            "text/html": [
              "<div>\n",
              "<style scoped>\n",
              "    .dataframe tbody tr th:only-of-type {\n",
              "        vertical-align: middle;\n",
              "    }\n",
              "\n",
              "    .dataframe tbody tr th {\n",
              "        vertical-align: top;\n",
              "    }\n",
              "\n",
              "    .dataframe thead th {\n",
              "        text-align: right;\n",
              "    }\n",
              "</style>\n",
              "<table border=\"1\" class=\"dataframe\">\n",
              "  <thead>\n",
              "    <tr style=\"text-align: right;\">\n",
              "      <th></th>\n",
              "      <th>Location_Feature_1</th>\n",
              "      <th>Location_Feature_2</th>\n",
              "      <th>Location_Feature_3</th>\n",
              "      <th>Location_Feature_4</th>\n",
              "      <th>Cuisines_Feature_1</th>\n",
              "      <th>Cuisines_Feature_2</th>\n",
              "      <th>Cuisines_Feature_3</th>\n",
              "      <th>Cuisines_Feature_4</th>\n",
              "      <th>Cuisines_Feature_5</th>\n",
              "      <th>Cuisines_Feature_6</th>\n",
              "      <th>Cuisines_Feature_7</th>\n",
              "      <th>Cuisines_Feature_8</th>\n",
              "      <th>Restaurant</th>\n",
              "      <th>Average_Cost_Cleaned</th>\n",
              "      <th>Minimum_Order_Cleaned</th>\n",
              "      <th>Rating_Cleaned</th>\n",
              "      <th>Votes_Cleaned</th>\n",
              "      <th>Reviews_Cleaned</th>\n",
              "    </tr>\n",
              "  </thead>\n",
              "  <tbody>\n",
              "    <tr>\n",
              "      <th>0</th>\n",
              "      <td>0.083713</td>\n",
              "      <td>1.243494</td>\n",
              "      <td>-0.479103</td>\n",
              "      <td>0.871523</td>\n",
              "      <td>0.809765</td>\n",
              "      <td>-0.204497</td>\n",
              "      <td>-0.346423</td>\n",
              "      <td>-0.351099</td>\n",
              "      <td>-0.196822</td>\n",
              "      <td>-0.12173</td>\n",
              "      <td>-0.082445</td>\n",
              "      <td>-0.042516</td>\n",
              "      <td>-0.897086</td>\n",
              "      <td>1.350471</td>\n",
              "      <td>-0.177278</td>\n",
              "      <td>1.612406</td>\n",
              "      <td>0.276837</td>\n",
              "      <td>0.428327</td>\n",
              "    </tr>\n",
              "    <tr>\n",
              "      <th>1</th>\n",
              "      <td>0.083713</td>\n",
              "      <td>1.243494</td>\n",
              "      <td>-0.479103</td>\n",
              "      <td>0.871523</td>\n",
              "      <td>-1.302905</td>\n",
              "      <td>0.628995</td>\n",
              "      <td>-0.605296</td>\n",
              "      <td>-0.351099</td>\n",
              "      <td>-0.196822</td>\n",
              "      <td>-0.12173</td>\n",
              "      <td>-0.082445</td>\n",
              "      <td>-0.042516</td>\n",
              "      <td>1.096904</td>\n",
              "      <td>-0.833142</td>\n",
              "      <td>-0.177278</td>\n",
              "      <td>0.029586</td>\n",
              "      <td>0.029087</td>\n",
              "      <td>0.035125</td>\n",
              "    </tr>\n",
              "    <tr>\n",
              "      <th>2</th>\n",
              "      <td>1.143599</td>\n",
              "      <td>0.416451</td>\n",
              "      <td>-0.673221</td>\n",
              "      <td>-0.151585</td>\n",
              "      <td>-0.746940</td>\n",
              "      <td>-1.104668</td>\n",
              "      <td>-0.605296</td>\n",
              "      <td>-0.351099</td>\n",
              "      <td>-0.196822</td>\n",
              "      <td>-0.12173</td>\n",
              "      <td>-0.082445</td>\n",
              "      <td>-0.042516</td>\n",
              "      <td>-0.101583</td>\n",
              "      <td>-0.833142</td>\n",
              "      <td>-0.177278</td>\n",
              "      <td>-0.006736</td>\n",
              "      <td>-0.411358</td>\n",
              "      <td>-0.377352</td>\n",
              "    </tr>\n",
              "    <tr>\n",
              "      <th>3</th>\n",
              "      <td>-1.665097</td>\n",
              "      <td>0.367801</td>\n",
              "      <td>-0.236455</td>\n",
              "      <td>-0.151585</td>\n",
              "      <td>0.513250</td>\n",
              "      <td>1.362467</td>\n",
              "      <td>0.393217</td>\n",
              "      <td>1.259565</td>\n",
              "      <td>7.241203</td>\n",
              "      <td>-0.12173</td>\n",
              "      <td>-0.082445</td>\n",
              "      <td>-0.042516</td>\n",
              "      <td>0.278454</td>\n",
              "      <td>0.040303</td>\n",
              "      <td>-0.177278</td>\n",
              "      <td>-0.006736</td>\n",
              "      <td>-0.347833</td>\n",
              "      <td>-0.311818</td>\n",
              "    </tr>\n",
              "    <tr>\n",
              "      <th>4</th>\n",
              "      <td>1.143599</td>\n",
              "      <td>0.416451</td>\n",
              "      <td>-0.673221</td>\n",
              "      <td>-0.151585</td>\n",
              "      <td>-0.932262</td>\n",
              "      <td>-0.037799</td>\n",
              "      <td>-0.605296</td>\n",
              "      <td>-0.351099</td>\n",
              "      <td>-0.196822</td>\n",
              "      <td>-0.12173</td>\n",
              "      <td>-0.082445</td>\n",
              "      <td>-0.042516</td>\n",
              "      <td>-0.715119</td>\n",
              "      <td>-0.396419</td>\n",
              "      <td>-0.177278</td>\n",
              "      <td>-1.895735</td>\n",
              "      <td>-0.407123</td>\n",
              "      <td>-0.385062</td>\n",
              "    </tr>\n",
              "  </tbody>\n",
              "</table>\n",
              "</div>"
            ],
            "text/plain": [
              "   Location_Feature_1  Location_Feature_2  ...  Votes_Cleaned  Reviews_Cleaned\n",
              "0            0.083713            1.243494  ...       0.276837         0.428327\n",
              "1            0.083713            1.243494  ...       0.029087         0.035125\n",
              "2            1.143599            0.416451  ...      -0.411358        -0.377352\n",
              "3           -1.665097            0.367801  ...      -0.347833        -0.311818\n",
              "4            1.143599            0.416451  ...      -0.407123        -0.385062\n",
              "\n",
              "[5 rows x 18 columns]"
            ]
          },
          "metadata": {
            "tags": []
          },
          "execution_count": 76
        }
      ]
    },
    {
      "cell_type": "markdown",
      "metadata": {
        "colab_type": "text",
        "id": "cVLi3tWF77GQ"
      },
      "source": [
        "##Modeling"
      ]
    },
    {
      "cell_type": "markdown",
      "metadata": {
        "colab_type": "text",
        "id": "r7mSn15PcLBy"
      },
      "source": [
        "Finally, we are ready for modeling. We will split the training set into training and validation sets.\n",
        "\n",
        "We will then use the training set to train and validation set to test the performance of the model.\n",
        "\n",
        "Finally we will use the given test set for predicting.\n",
        "\n",
        "\n"
      ]
    },
    {
      "cell_type": "code",
      "metadata": {
        "colab_type": "code",
        "id": "GyvnZnyAcmTF",
        "colab": {}
      },
      "source": [
        "from sklearn.model_selection import train_test_split\n",
        "\n",
        "train, val = train_test_split(train_sample, test_size = 0.1, random_state = 123)"
      ],
      "execution_count": 0,
      "outputs": []
    },
    {
      "cell_type": "code",
      "metadata": {
        "colab_type": "code",
        "id": "moR5oT7H8Gj2",
        "colab": {}
      },
      "source": [
        "X_train = train[cols[:-1]]\n",
        "Y_train = train[cols[-1]]\n",
        "\n",
        "X_Val = val[cols[:-1]]\n",
        "Y_Val = val[cols[-1]]\n",
        "\n",
        "X_test = test_sample[cols[:-1]]"
      ],
      "execution_count": 0,
      "outputs": []
    },
    {
      "cell_type": "code",
      "metadata": {
        "colab_type": "code",
        "id": "nsciW_cU7ak5",
        "outputId": "8e442d4e-cb7d-4aed-b7ae-7acbf11d8694",
        "colab": {
          "base_uri": "https://localhost:8080/",
          "height": 140
        }
      },
      "source": [
        "from xgboost import XGBClassifier\n",
        "\n",
        "xgb = XGBClassifier()\n",
        "\n",
        "xgb.fit(X_train,Y_train)"
      ],
      "execution_count": 79,
      "outputs": [
        {
          "output_type": "execute_result",
          "data": {
            "text/plain": [
              "XGBClassifier(base_score=0.5, booster='gbtree', colsample_bylevel=1,\n",
              "              colsample_bynode=1, colsample_bytree=1, gamma=0,\n",
              "              learning_rate=0.1, max_delta_step=0, max_depth=3,\n",
              "              min_child_weight=1, missing=None, n_estimators=100, n_jobs=1,\n",
              "              nthread=None, objective='multi:softprob', random_state=0,\n",
              "              reg_alpha=0, reg_lambda=1, scale_pos_weight=1, seed=None,\n",
              "              silent=None, subsample=1, verbosity=1)"
            ]
          },
          "metadata": {
            "tags": []
          },
          "execution_count": 79
        }
      ]
    },
    {
      "cell_type": "code",
      "metadata": {
        "colab_type": "code",
        "id": "0hBSBM_y76WT",
        "outputId": "ccd83863-a0f8-4ebb-d19f-48265af64416",
        "colab": {
          "base_uri": "https://localhost:8080/",
          "height": 34
        }
      },
      "source": [
        "xgb.score(X_Val,Y_Val)"
      ],
      "execution_count": 80,
      "outputs": [
        {
          "output_type": "execute_result",
          "data": {
            "text/plain": [
              "0.7216216216216216"
            ]
          },
          "metadata": {
            "tags": []
          },
          "execution_count": 80
        }
      ]
    },
    {
      "cell_type": "markdown",
      "metadata": {
        "colab_type": "text",
        "id": "fJ6fmF5FiDGi"
      },
      "source": [
        "\n",
        "---\n",
        "\n",
        "This is a baseline model. Fine tuning the model can give better results. Also, tryout different algorithms to find the best."
      ]
    },
    {
      "cell_type": "code",
      "metadata": {
        "id": "ZNacLwWr6Lpo",
        "colab_type": "code",
        "colab": {}
      },
      "source": [
        "from sklearn.tree import DecisionTreeClassifier\n",
        "clf = DecisionTreeClassifier(random_state=0)"
      ],
      "execution_count": 0,
      "outputs": []
    },
    {
      "cell_type": "code",
      "metadata": {
        "id": "rpCQpSlh6Lpr",
        "colab_type": "code",
        "colab": {
          "base_uri": "https://localhost:8080/",
          "height": 34
        },
        "outputId": "c3e596fa-f1e7-462e-9f84-70111b16ecbf"
      },
      "source": [
        "clf.fit(X_train,Y_train)\n",
        "clf.score(X_Val,Y_Val)"
      ],
      "execution_count": 82,
      "outputs": [
        {
          "output_type": "execute_result",
          "data": {
            "text/plain": [
              "0.6954954954954955"
            ]
          },
          "metadata": {
            "tags": []
          },
          "execution_count": 82
        }
      ]
    },
    {
      "cell_type": "code",
      "metadata": {
        "id": "oWy-MjbV6Lpy",
        "colab_type": "code",
        "colab": {}
      },
      "source": [
        "from sklearn.ensemble import RandomForestClassifier\n",
        "Rforest = RandomForestClassifier()"
      ],
      "execution_count": 0,
      "outputs": []
    },
    {
      "cell_type": "code",
      "metadata": {
        "id": "8BFDn5Nt6Lp0",
        "colab_type": "code",
        "colab": {
          "base_uri": "https://localhost:8080/",
          "height": 34
        },
        "outputId": "f8e13d6a-bfe4-4d50-dcfd-d506d7a87187"
      },
      "source": [
        "Rforest.fit(X_train,Y_train)\n",
        "Rforest.score(X_Val,Y_Val)"
      ],
      "execution_count": 84,
      "outputs": [
        {
          "output_type": "execute_result",
          "data": {
            "text/plain": [
              "0.7774774774774775"
            ]
          },
          "metadata": {
            "tags": []
          },
          "execution_count": 84
        }
      ]
    },
    {
      "cell_type": "code",
      "metadata": {
        "id": "cjYfsDP36Lp3",
        "colab_type": "code",
        "colab": {}
      },
      "source": [
        "import warnings\n",
        "warnings.filterwarnings('ignore')"
      ],
      "execution_count": 0,
      "outputs": []
    },
    {
      "cell_type": "code",
      "metadata": {
        "id": "JaVPuOYV8yRC",
        "colab_type": "code",
        "colab": {}
      },
      "source": [
        "Predictions = Rforest.predict(X_test)"
      ],
      "execution_count": 0,
      "outputs": []
    },
    {
      "cell_type": "code",
      "metadata": {
        "id": "3DSsS73R9C5k",
        "colab_type": "code",
        "colab": {}
      },
      "source": [
        "pd.DataFrame(Predictions, columns = ['Delivery_Time']).to_excel(\"/GD/My Drive/Colab Notebooks/Food Delivery/Participants Data/Submission.xlsx\", index = False)"
      ],
      "execution_count": 0,
      "outputs": []
    }
  ]
}